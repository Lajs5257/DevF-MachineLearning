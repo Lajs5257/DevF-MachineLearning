{
  "cells": [
    {
      "cell_type": "markdown",
      "metadata": {
        "colab_type": "text",
        "id": "view-in-github"
      },
      "source": [
        "<a href=\"https://colab.research.google.com/github/Lajs5257/DevF-MachineLearning/blob/main/Copia_de_Hyperparameter_Tuning.ipynb\" target=\"_parent\"><img src=\"https://colab.research.google.com/assets/colab-badge.svg\" alt=\"Open In Colab\"/></a>"
      ]
    },
    {
      "cell_type": "markdown",
      "metadata": {
        "id": "9wdyJvOPz-Dq"
      },
      "source": [
        "## SETUP"
      ]
    },
    {
      "cell_type": "code",
      "execution_count": null,
      "metadata": {
        "id": "wtvP8YUSgoxm"
      },
      "outputs": [],
      "source": [
        "import numpy as np\n",
        "import pandas as pd\n",
        "import matplotlib.pyplot as plt\n",
        "from scipy import stats\n",
        "\n",
        "from sklearn.datasets import load_breast_cancer, load_boston\n",
        "\n",
        "from sklearn.ensemble import (RandomForestClassifier, \n",
        "                              GradientBoostingClassifier, \n",
        "                              GradientBoostingRegressor)\n",
        "\n",
        "from sklearn.linear_model import LogisticRegression\n",
        "\n",
        "from sklearn.metrics import ( \n",
        "    accuracy_score, \n",
        "    precision_score, \n",
        "    recall_score, \n",
        "    f1_score, \n",
        "    classification_report, \n",
        "    roc_auc_score,\n",
        "    \n",
        "    mean_squared_error)\n",
        "\n",
        "from sklearn.model_selection import (\n",
        "    KFold,\n",
        "    cross_validate,\n",
        "    train_test_split,\n",
        "    GridSearchCV,\n",
        "    RandomizedSearchCV\n",
        ")"
      ]
    },
    {
      "cell_type": "markdown",
      "metadata": {
        "id": "FSN8-dcO0D8q"
      },
      "source": [
        "Cargamos datos para ejemplificar"
      ]
    },
    {
      "cell_type": "code",
      "execution_count": null,
      "metadata": {
        "id": "X3b4qf5kzj07"
      },
      "outputs": [],
      "source": [
        "# Cargamos los datos\n",
        "breast_cancer_X, breast_cancer_y = load_breast_cancer(return_X_y=True)\n",
        "\n",
        "X = pd.DataFrame(breast_cancer_X)\n",
        "y = pd.Series(breast_cancer_y).map({0:1, 1:0})\n",
        "\n",
        "# Partimos en train y test\n",
        "\n",
        "X_train, X_test, y_train, y_test = train_test_split(X, y, \n",
        "                                                    test_size=0.3, \n",
        "                                                    random_state=0)"
      ]
    },
    {
      "cell_type": "markdown",
      "metadata": {
        "id": "BOkSlAPyyylu"
      },
      "source": [
        "## __`Busquedas manuales`__"
      ]
    },
    {
      "cell_type": "markdown",
      "metadata": {
        "id": "OimcOwkA2vj5"
      },
      "source": [
        "Es la forma más simple de buscar hiperparametros, solo consiste en variar manualmente los valores y estudiar los resultados finales de cada combinación probada"
      ]
    },
    {
      "cell_type": "markdown",
      "metadata": {
        "id": "0_Tk8opT29KU"
      },
      "source": [
        "#### Modelo 1"
      ]
    },
    {
      "cell_type": "markdown",
      "metadata": {
        "id": "YGnAYoyZEmN5"
      },
      "source": [
        "probamos con `C = 0.001`, `penalty = 'l1'`"
      ]
    },
    {
      "cell_type": "code",
      "execution_count": null,
      "metadata": {
        "id": "eIEJ3CqUyxls"
      },
      "outputs": [],
      "source": [
        "# Logistic Regression\n",
        "lr = LogisticRegression(penalty ='l1', \n",
        "                        C=0.01, \n",
        "                        solver='liblinear', \n",
        "                        random_state=123, \n",
        "                        max_iter=10000)\n",
        "\n",
        "# Esquema K-Fold Cross-Validation\n",
        "kf = KFold(n_splits=5, \n",
        "           shuffle=True, \n",
        "           random_state=123)\n",
        "\n",
        "# estimamos el error generalizado\n",
        "clf =  cross_validate(lr,\n",
        "                      X_train, \n",
        "                      y_train,\n",
        "                      scoring='roc_auc',\n",
        "                      return_train_score=True,\n",
        "                      cv=kf)"
      ]
    },
    {
      "cell_type": "code",
      "execution_count": null,
      "metadata": {
        "id": "OmRBxCdswRq5"
      },
      "outputs": [],
      "source": []
    },
    {
      "cell_type": "code",
      "execution_count": null,
      "metadata": {
        "id": "KbdCEQ5s1fsh"
      },
      "outputs": [],
      "source": [
        "# obtenemos el diccionario con los resultados\n",
        "type(clf)"
      ]
    },
    {
      "cell_type": "code",
      "execution_count": null,
      "metadata": {
        "id": "U2ycYXx2vda5"
      },
      "outputs": [],
      "source": [
        "clf.keys()"
      ]
    },
    {
      "cell_type": "code",
      "execution_count": null,
      "metadata": {
        "id": "AnGC4YLpvZDv"
      },
      "outputs": [],
      "source": [
        "clf['test_score']"
      ]
    },
    {
      "cell_type": "code",
      "execution_count": null,
      "metadata": {
        "id": "PDNRmV-zq6lZ"
      },
      "outputs": [],
      "source": [
        "clf['train_score']"
      ]
    },
    {
      "cell_type": "code",
      "execution_count": null,
      "metadata": {
        "id": "DZOcWTjme5Ok"
      },
      "outputs": [],
      "source": [
        "print(np.mean(clf['test_score']))\n",
        "print(np.std(clf['test_score']))"
      ]
    },
    {
      "cell_type": "code",
      "execution_count": null,
      "metadata": {
        "id": "jQ6YWfI5fDUa"
      },
      "outputs": [],
      "source": [
        "print(np.mean(clf['train_score']))\n",
        "print(np.std(clf['train_score']))"
      ]
    },
    {
      "cell_type": "code",
      "execution_count": null,
      "metadata": {
        "id": "trbpg7PD11Jw"
      },
      "outputs": [],
      "source": [
        "# Ajustamos el modelo con todos los datos\n",
        "lr.fit(X_train, y_train)"
      ]
    },
    {
      "cell_type": "code",
      "execution_count": null,
      "metadata": {
        "id": "UmzoqAGV2LGd"
      },
      "outputs": [],
      "source": [
        "# Creamos pronosticos\n",
        "test_preds = lr.predict(X_test)\n",
        "print(accuracy_score(y_test, test_preds))"
      ]
    },
    {
      "cell_type": "markdown",
      "metadata": {
        "id": "riL1DqxS3Mpi"
      },
      "source": [
        "#### Modelo 2"
      ]
    },
    {
      "cell_type": "markdown",
      "metadata": {
        "id": "SOINgQwOEqSg"
      },
      "source": [
        "probamos con `C = 1`, `penalty = 'l2'`"
      ]
    },
    {
      "cell_type": "code",
      "execution_count": null,
      "metadata": {
        "id": "cZ-KaevtPkZM"
      },
      "outputs": [],
      "source": [
        "# # Logistic Regression\n",
        "# lr = LogisticRegression(penalty ='l1', \n",
        "#                         C=0.01, \n",
        "#                         solver='liblinear', \n",
        "#                         random_state=123, \n",
        "#                         max_iter=10000)\n",
        "\n",
        "# # Esquema K-Fold Cross-Validation\n",
        "# kf = KFold(n_splits=5, \n",
        "#            shuffle=True, \n",
        "#            random_state=123)\n",
        "\n",
        "# # estimamos el error generalizado\n",
        "# clf =  cross_validate(lr,\n",
        "#                       X_train, \n",
        "#                       y_train,\n",
        "#                       scoring='roc_auc',\n",
        "#                       return_train_score=True,\n",
        "#                       cv=kf)"
      ]
    },
    {
      "cell_type": "code",
      "execution_count": null,
      "metadata": {
        "id": "6NwvbnmS1WBr"
      },
      "outputs": [],
      "source": [
        "# Logistic Regression\n",
        "lr = LogisticRegression(penalty ='l2', \n",
        "                        C=1, \n",
        "                        solver='liblinear', \n",
        "                        random_state=123, \n",
        "                        max_iter=10000)\n",
        "\n",
        "# Esquema K-Fold Cross-Validation\n",
        "kf = KFold(n_splits=5, \n",
        "           shuffle=True, \n",
        "           random_state=123)\n",
        "\n",
        "# estimamos el error generalizado\n",
        "clf =  cross_validate(lr,\n",
        "                      X_train, \n",
        "                      y_train,\n",
        "                      scoring='accuracy',\n",
        "                      return_train_score=True,\n",
        "                      cv=kf)"
      ]
    },
    {
      "cell_type": "code",
      "execution_count": null,
      "metadata": {
        "id": "ENRS4iO04Zy7"
      },
      "outputs": [],
      "source": [
        "print(np.mean(clf['test_score']))\n",
        "print(np.std(clf['test_score']))"
      ]
    },
    {
      "cell_type": "code",
      "execution_count": null,
      "metadata": {
        "id": "BVHcDdBefkLG"
      },
      "outputs": [],
      "source": [
        "print(np.mean(clf['train_score']))\n",
        "print(np.std(clf['train_score']))"
      ]
    },
    {
      "cell_type": "code",
      "execution_count": null,
      "metadata": {
        "id": "XVppr1NA4eEW"
      },
      "outputs": [],
      "source": [
        "# Ajustamos el modelo con todos los datos\n",
        "lr.fit(X_train, y_train)"
      ]
    },
    {
      "cell_type": "code",
      "execution_count": null,
      "metadata": {
        "id": "_xAzMKJh4hW3"
      },
      "outputs": [],
      "source": [
        "# Creamos pronosticos\n",
        "test_preds = lr.predict(X_test)\n",
        "print(accuracy_score(y_test, test_preds))"
      ]
    },
    {
      "cell_type": "code",
      "execution_count": null,
      "metadata": {
        "id": "56BMh8uhrU-5"
      },
      "outputs": [],
      "source": [
        "0.9473684210526315"
      ]
    },
    {
      "cell_type": "markdown",
      "metadata": {
        "id": "0CHayCf_m8Un"
      },
      "source": [
        "## __`GridSearchCV`__"
      ]
    },
    {
      "cell_type": "markdown",
      "metadata": {
        "id": "J1CrWcPSnBSW"
      },
      "source": [
        "Pasos en una búsqueda de hiperparámetros con __`GridSearchCV`__:\n",
        "\n",
        "1. Instanciar un algoritmo (estimador) para ajustar hiperparámetros\n",
        "2. Definir qué hiperparámetros serán ajustados\n",
        "3. Definir un rango de valores para cada hiperparámetro\n",
        "4. Establecer un esquema de cross validation\n",
        "5. Definir una métrica (recall, presicion, RMSE, etc.) para que podamos decidir qué combinación de hiperparámetros es la mejor\n",
        "6. Incluir información extra o funciones adicionales útiles"
      ]
    },
    {
      "cell_type": "markdown",
      "metadata": {
        "id": "54zLppwgopx7"
      },
      "source": [
        "Los argumentos del __[`GridSearchCV`](https://scikit-learn.org/stable/modules/generated/sklearn.model_selection.GridSearchCV.html)__ son:\n",
        "\n",
        "* `estimator`, el algoritmo que será usado (knn, RandomForest, etc.)\n",
        "* `param_grid`, diccionadrio de hiperparámetros y sus valores que serán probados\n",
        "* `cv`, esquema de validación cruzada que será usado\n",
        "* `scoring`, métrica usada para evaluar el performance del modelo\n",
        "* `refit`, (True/False) si es True, ajustará un modelo sobre todos los datos usando los mejores hiperparámetros encontrados, esto implica que el objeto __`GridSearchCV`__ ahora pasará a ser usado como un estimador\n",
        "* `n_jobs`, para ejecutar la busqueda en paralelo\n",
        "* `return_train_score` es el log de las estadísticas que fueron tomadas, es útil para entender el performance de training vs test\n",
        "* `verbose`, Controla los mensajes que se imprimen al momento de hacer los ajustes"
      ]
    },
    {
      "cell_type": "code",
      "execution_count": null,
      "metadata": {
        "colab": {
          "base_uri": "https://localhost:8080/"
        },
        "id": "bjW4_kMjRNLm",
        "outputId": "ba573442-2fe6-4c6f-ec0f-69d9806f0fd2"
      },
      "outputs": [
        {
          "data": {
            "text/plain": [
              "2"
            ]
          },
          "execution_count": 20,
          "metadata": {},
          "output_type": "execute_result"
        }
      ],
      "source": [
        "# cores disponibles\n",
        "import os\n",
        "os.cpu_count()"
      ]
    },
    {
      "cell_type": "code",
      "execution_count": null,
      "metadata": {
        "id": "xyKsau2MsDE5"
      },
      "outputs": [],
      "source": [
        "# partimos en train y test\n",
        "X_train, X_test, y_train, y_test = train_test_split(X, y, \n",
        "                                                    test_size=0.3, \n",
        "                                                    random_state=0)"
      ]
    },
    {
      "cell_type": "markdown",
      "metadata": {
        "id": "bEoYM2lN8pqB"
      },
      "source": [
        "Debemos traer el GridSearchCV\n",
        "\n",
        "```python\n",
        "from sklearn.model_selection import GridSearchCV\n",
        "```\n",
        "\n"
      ]
    },
    {
      "cell_type": "code",
      "execution_count": null,
      "metadata": {
        "id": "XjNc87UH5dDx"
      },
      "outputs": [],
      "source": [
        "# Instanciamos el modelo\n",
        "gbm = GradientBoostingClassifier(random_state=0)"
      ]
    },
    {
      "cell_type": "markdown",
      "metadata": {
        "id": "EOSKKjwo5ot7"
      },
      "source": [
        "Creamos el grid de parametros, que es un diccionario donde:\n",
        "\n",
        "*   las llaves del diccionario son los hiperparametros que vamos a calibrar\n",
        "*   los valores del diccionario son listas con los valores de los respectivos hiperparametros que seran probados\n",
        "\n",
        "Ejemplo:\n",
        "\n",
        "```python\n",
        "param_grid = {'hiperparametro_01': [valor_h11, valor_h12, valor_h13], \n",
        "              'hiperparametro_02': [valor_h21, valor_h22, valor_h23],\n",
        "              '...':[...],\n",
        "              'hiperparametro_N':[valor_hN1, valor_hN2, valor_N3]\n",
        "              }\n",
        "```\n",
        "\n"
      ]
    },
    {
      "cell_type": "code",
      "execution_count": null,
      "metadata": {
        "id": "mVjtoDAZ5fXO"
      },
      "outputs": [],
      "source": [
        "# Creamos el grid de nuestro ejercicio\n",
        "param_grid = {'n_estimators': [50, 100, 150],\n",
        "              'min_samples_split': [0.1, 0.3, 0.5, 0.7],\n",
        "              'max_depth': [2, 5, 10, 15],\n",
        "              }"
      ]
    },
    {
      "cell_type": "code",
      "execution_count": null,
      "metadata": {
        "colab": {
          "base_uri": "https://localhost:8080/"
        },
        "id": "TODg83Q-9Z0i",
        "outputId": "6dc6b26d-229f-4351-8df9-e4f29da8b2ee"
      },
      "outputs": [
        {
          "name": "stdout",
          "output_type": "stream",
          "text": [
            "Numero de combinaciones entre los parametros a probar:\n",
            "48\n"
          ]
        }
      ],
      "source": [
        "print('Numero de combinaciones entre los parametros a probar:')\n",
        "print(len(param_grid['n_estimators'])*len(param_grid['min_samples_split'])*len(param_grid['max_depth']))"
      ]
    },
    {
      "cell_type": "code",
      "execution_count": null,
      "metadata": {
        "id": "atc3dsiITjMS"
      },
      "outputs": [],
      "source": [
        "# Supongamos que queremos probar con un esquema de 10 validaciones crizadas"
      ]
    },
    {
      "cell_type": "code",
      "execution_count": null,
      "metadata": {
        "colab": {
          "base_uri": "https://localhost:8080/"
        },
        "id": "U2zp6VPbTnNe",
        "outputId": "4d8ab420-2627-4c16-ae42-bc8c0954965d"
      },
      "outputs": [
        {
          "data": {
            "text/plain": [
              "480"
            ]
          },
          "execution_count": 25,
          "metadata": {},
          "output_type": "execute_result"
        }
      ],
      "source": [
        "10*48"
      ]
    },
    {
      "cell_type": "code",
      "execution_count": null,
      "metadata": {
        "colab": {
          "base_uri": "https://localhost:8080/"
        },
        "id": "2qd5CmdxTqhK",
        "outputId": "79fa795b-4f13-4213-f67e-cf6eaead6458"
      },
      "outputs": [
        {
          "data": {
            "text/plain": [
              "481"
            ]
          },
          "execution_count": 26,
          "metadata": {},
          "output_type": "execute_result"
        }
      ],
      "source": [
        "# aun falta ajustar el modelo final con los mejores hiperparametros enmcontrados\n",
        "10*48 + 1"
      ]
    },
    {
      "cell_type": "code",
      "execution_count": null,
      "metadata": {
        "id": "eUejBvqx8eB0"
      },
      "outputs": [],
      "source": [
        "# Instanciamos el GridSearchCV\n",
        "grid_gbm_search = GridSearchCV(estimator=gbm,\n",
        "                               param_grid=param_grid,\n",
        "                               scoring='roc_auc',\n",
        "                               n_jobs=-1, # Cuando colocamos menos 1 quiere decir que usaremos todos los cores disponibles en nuestra maquina\n",
        "                               verbose = True,\n",
        "                               cv=4,\n",
        "                               refit=True, \n",
        "                               return_train_score=True)"
      ]
    },
    {
      "cell_type": "code",
      "execution_count": null,
      "metadata": {
        "colab": {
          "base_uri": "https://localhost:8080/"
        },
        "id": "e56A_Kctsmux",
        "outputId": "b84da3d8-4975-4a6b-cfb1-7f0aedd00719"
      },
      "outputs": [
        {
          "name": "stdout",
          "output_type": "stream",
          "text": [
            "Fitting 4 folds for each of 48 candidates, totalling 192 fits\n",
            "CPU times: user 1.23 s, sys: 56.8 ms, total: 1.28 s\n",
            "Wall time: 38.4 s\n"
          ]
        },
        {
          "data": {
            "text/plain": [
              "GridSearchCV(cv=4, estimator=GradientBoostingClassifier(random_state=0),\n",
              "             n_jobs=-1,\n",
              "             param_grid={'max_depth': [2, 5, 10, 15],\n",
              "                         'min_samples_split': [0.1, 0.3, 0.5, 0.7],\n",
              "                         'n_estimators': [50, 100, 150]},\n",
              "             return_train_score=True, scoring='roc_auc', verbose=True)"
            ]
          },
          "execution_count": 28,
          "metadata": {},
          "output_type": "execute_result"
        }
      ],
      "source": [
        "%%time\n",
        "# Buscamos y ajustamos  hiperparametros con los datos de entrenamiento\n",
        "grid_gbm_search.fit(X_train, y_train)"
      ]
    },
    {
      "cell_type": "code",
      "execution_count": null,
      "metadata": {
        "colab": {
          "base_uri": "https://localhost:8080/"
        },
        "id": "KXK-fKKK8i6F",
        "outputId": "a4b1105b-f37a-40ba-efbe-e29da8e9933a"
      },
      "outputs": [
        {
          "data": {
            "text/plain": [
              "sklearn.model_selection._search.GridSearchCV"
            ]
          },
          "execution_count": 29,
          "metadata": {},
          "output_type": "execute_result"
        }
      ],
      "source": [
        "type(grid_gbm_search)"
      ]
    },
    {
      "cell_type": "code",
      "execution_count": null,
      "metadata": {
        "colab": {
          "base_uri": "https://localhost:8080/"
        },
        "id": "ygifKZw88n23",
        "outputId": "fa48a9d8-d8a4-4ade-adb1-8b4bd903cf7f"
      },
      "outputs": [
        {
          "data": {
            "text/plain": [
              "['__abstractmethods__',\n",
              " '__class__',\n",
              " '__delattr__',\n",
              " '__dict__',\n",
              " '__dir__',\n",
              " '__doc__',\n",
              " '__eq__',\n",
              " '__format__',\n",
              " '__ge__',\n",
              " '__getattribute__',\n",
              " '__getstate__',\n",
              " '__gt__',\n",
              " '__hash__',\n",
              " '__init__',\n",
              " '__init_subclass__',\n",
              " '__le__',\n",
              " '__lt__',\n",
              " '__module__',\n",
              " '__ne__',\n",
              " '__new__',\n",
              " '__reduce__',\n",
              " '__reduce_ex__',\n",
              " '__repr__',\n",
              " '__setattr__',\n",
              " '__setstate__',\n",
              " '__sizeof__',\n",
              " '__str__',\n",
              " '__subclasshook__',\n",
              " '__weakref__',\n",
              " '_abc_impl',\n",
              " '_check_feature_names',\n",
              " '_check_n_features',\n",
              " '_check_refit_for_multimetric',\n",
              " '_estimator_type',\n",
              " '_format_results',\n",
              " '_get_param_names',\n",
              " '_get_tags',\n",
              " '_more_tags',\n",
              " '_pairwise',\n",
              " '_repr_html_',\n",
              " '_repr_html_inner',\n",
              " '_repr_mimebundle_',\n",
              " '_required_parameters',\n",
              " '_run_search',\n",
              " '_select_best_index',\n",
              " '_validate_data',\n",
              " 'best_estimator_',\n",
              " 'best_index_',\n",
              " 'best_params_',\n",
              " 'best_score_',\n",
              " 'classes_',\n",
              " 'cv',\n",
              " 'cv_results_',\n",
              " 'decision_function',\n",
              " 'error_score',\n",
              " 'estimator',\n",
              " 'fit',\n",
              " 'get_params',\n",
              " 'inverse_transform',\n",
              " 'multimetric_',\n",
              " 'n_features_in_',\n",
              " 'n_jobs',\n",
              " 'n_splits_',\n",
              " 'param_grid',\n",
              " 'pre_dispatch',\n",
              " 'predict',\n",
              " 'predict_log_proba',\n",
              " 'predict_proba',\n",
              " 'refit',\n",
              " 'refit_time_',\n",
              " 'return_train_score',\n",
              " 'score',\n",
              " 'score_samples',\n",
              " 'scorer_',\n",
              " 'scoring',\n",
              " 'set_params',\n",
              " 'transform',\n",
              " 'verbose']"
            ]
          },
          "execution_count": 30,
          "metadata": {},
          "output_type": "execute_result"
        }
      ],
      "source": [
        "dir(grid_gbm_search)"
      ]
    },
    {
      "cell_type": "code",
      "execution_count": null,
      "metadata": {
        "id": "mQd8qgkKsm45"
      },
      "outputs": [],
      "source": [
        "# Usamos grid_rf_class para generar predicciones\n",
        "y_pred = grid_gbm_search.predict(X_test)"
      ]
    },
    {
      "cell_type": "code",
      "execution_count": null,
      "metadata": {
        "colab": {
          "base_uri": "https://localhost:8080/"
        },
        "id": "9Pm7kDRsHA7O",
        "outputId": "cf9f0b51-536d-4f5a-d11e-f001c7ad0f0b"
      },
      "outputs": [
        {
          "name": "stdout",
          "output_type": "stream",
          "text": [
            "              precision    recall  f1-score   support\n",
            "\n",
            "           0       0.99      0.98      0.99       108\n",
            "           1       0.97      0.98      0.98        63\n",
            "\n",
            "    accuracy                           0.98       171\n",
            "   macro avg       0.98      0.98      0.98       171\n",
            "weighted avg       0.98      0.98      0.98       171\n",
            "\n",
            "------------------------------\n",
            "0.9828042328042329\n"
          ]
        }
      ],
      "source": [
        "print(classification_report(y_test, y_pred))\n",
        "print('-'*30)\n",
        "print(roc_auc_score(y_test, y_pred))"
      ]
    },
    {
      "cell_type": "markdown",
      "metadata": {
        "id": "UIxv6cxHuCAo"
      },
      "source": [
        "### Resultados del __`GridSearchCV`__"
      ]
    },
    {
      "cell_type": "markdown",
      "metadata": {
        "id": "YUOLBy-duPOm"
      },
      "source": [
        "* log de resultados\n",
        "    + `.cv_results_` (diccionario de resultados)\n",
        "\n",
        "* Mejores resultados\n",
        "    + `.best_index_` (indice del mejor modelo), `.best_params_` (mejores parámetros) & `.best_score_` (mejor score)\n",
        "\n",
        "* Información extra\n",
        "    + `.scorer_` (métrica usada), `.n_splits_` (k usado en cv) & `.refit_time_` (tiempos)"
      ]
    },
    {
      "cell_type": "code",
      "execution_count": null,
      "metadata": {
        "id": "hSu1PMC79LLa"
      },
      "outputs": [],
      "source": [
        "# Creamos el grid de nuestro ejercicio\n",
        "param_grid = {'n_estimators': [50, 100, 150],\n",
        "              'min_samples_split': [0.1, 0.3, 0.5, 0.7],\n",
        "              'max_depth': [2, 5, 10, 15],\n",
        "              }"
      ]
    },
    {
      "cell_type": "code",
      "execution_count": null,
      "metadata": {
        "colab": {
          "base_uri": "https://localhost:8080/"
        },
        "id": "-CXnR48tk8TL",
        "outputId": "b7cab913-dda5-48da-b0de-c76cc5978266"
      },
      "outputs": [
        {
          "name": "stdout",
          "output_type": "stream",
          "text": [
            "{'max_depth': 5, 'min_samples_split': 0.5, 'n_estimators': 150}\n"
          ]
        }
      ],
      "source": [
        "# podemos extrae los mejores hiperparametros para despues intentar ajustar un nuevo modelo\n",
        "print(grid_gbm_search.best_params_) "
      ]
    },
    {
      "cell_type": "code",
      "execution_count": null,
      "metadata": {
        "colab": {
          "base_uri": "https://localhost:8080/"
        },
        "id": "tdze83fQG0AB",
        "outputId": "c2e4518a-3a8e-4c80-86b2-deb62e6988b5"
      },
      "outputs": [
        {
          "name": "stdout",
          "output_type": "stream",
          "text": [
            "0.9898031368744443\n"
          ]
        }
      ],
      "source": [
        "# podemos obtener la metrica promedio del proceso de validación cruzada\n",
        "print(grid_gbm_search.best_score_) "
      ]
    },
    {
      "cell_type": "code",
      "execution_count": null,
      "metadata": {
        "id": "1prj9KTjvj2J"
      },
      "outputs": [],
      "source": [
        "grid_gbm_search.cv_results_"
      ]
    },
    {
      "cell_type": "code",
      "execution_count": null,
      "metadata": {
        "colab": {
          "base_uri": "https://localhost:8080/",
          "height": 473
        },
        "id": "3V9YzOaxvyUs",
        "outputId": "197f96c0-0cdb-4f2c-adb5-f122708c1331"
      },
      "outputs": [
        {
          "data": {
            "text/html": [
              "\n",
              "  <div id=\"df-ee7d7c66-aefb-435c-a3c0-aa39d325c7d3\">\n",
              "    <div class=\"colab-df-container\">\n",
              "      <div>\n",
              "<style scoped>\n",
              "    .dataframe tbody tr th:only-of-type {\n",
              "        vertical-align: middle;\n",
              "    }\n",
              "\n",
              "    .dataframe tbody tr th {\n",
              "        vertical-align: top;\n",
              "    }\n",
              "\n",
              "    .dataframe thead th {\n",
              "        text-align: right;\n",
              "    }\n",
              "</style>\n",
              "<table border=\"1\" class=\"dataframe\">\n",
              "  <thead>\n",
              "    <tr style=\"text-align: right;\">\n",
              "      <th></th>\n",
              "      <th>mean_fit_time</th>\n",
              "      <th>std_fit_time</th>\n",
              "      <th>mean_score_time</th>\n",
              "      <th>std_score_time</th>\n",
              "      <th>param_max_depth</th>\n",
              "      <th>param_min_samples_split</th>\n",
              "      <th>param_n_estimators</th>\n",
              "      <th>params</th>\n",
              "      <th>split0_test_score</th>\n",
              "      <th>split1_test_score</th>\n",
              "      <th>...</th>\n",
              "      <th>split3_test_score</th>\n",
              "      <th>mean_test_score</th>\n",
              "      <th>std_test_score</th>\n",
              "      <th>rank_test_score</th>\n",
              "      <th>split0_train_score</th>\n",
              "      <th>split1_train_score</th>\n",
              "      <th>split2_train_score</th>\n",
              "      <th>split3_train_score</th>\n",
              "      <th>mean_train_score</th>\n",
              "      <th>std_train_score</th>\n",
              "    </tr>\n",
              "  </thead>\n",
              "  <tbody>\n",
              "    <tr>\n",
              "      <th>0</th>\n",
              "      <td>0.099426</td>\n",
              "      <td>0.001736</td>\n",
              "      <td>0.002942</td>\n",
              "      <td>0.000096</td>\n",
              "      <td>2</td>\n",
              "      <td>0.1</td>\n",
              "      <td>50</td>\n",
              "      <td>{'max_depth': 2, 'min_samples_split': 0.1, 'n_...</td>\n",
              "      <td>0.986486</td>\n",
              "      <td>0.985993</td>\n",
              "      <td>...</td>\n",
              "      <td>0.990846</td>\n",
              "      <td>0.986690</td>\n",
              "      <td>0.002664</td>\n",
              "      <td>28</td>\n",
              "      <td>1.0</td>\n",
              "      <td>1.0</td>\n",
              "      <td>1.0</td>\n",
              "      <td>1.0</td>\n",
              "      <td>1.0</td>\n",
              "      <td>0.000000e+00</td>\n",
              "    </tr>\n",
              "    <tr>\n",
              "      <th>1</th>\n",
              "      <td>0.198686</td>\n",
              "      <td>0.007450</td>\n",
              "      <td>0.003895</td>\n",
              "      <td>0.001611</td>\n",
              "      <td>2</td>\n",
              "      <td>0.1</td>\n",
              "      <td>100</td>\n",
              "      <td>{'max_depth': 2, 'min_samples_split': 0.1, 'n_...</td>\n",
              "      <td>0.985628</td>\n",
              "      <td>0.986842</td>\n",
              "      <td>...</td>\n",
              "      <td>0.996513</td>\n",
              "      <td>0.987887</td>\n",
              "      <td>0.005219</td>\n",
              "      <td>16</td>\n",
              "      <td>1.0</td>\n",
              "      <td>1.0</td>\n",
              "      <td>1.0</td>\n",
              "      <td>1.0</td>\n",
              "      <td>1.0</td>\n",
              "      <td>5.551115e-17</td>\n",
              "    </tr>\n",
              "    <tr>\n",
              "      <th>2</th>\n",
              "      <td>0.295785</td>\n",
              "      <td>0.000834</td>\n",
              "      <td>0.003044</td>\n",
              "      <td>0.000041</td>\n",
              "      <td>2</td>\n",
              "      <td>0.1</td>\n",
              "      <td>150</td>\n",
              "      <td>{'max_depth': 2, 'min_samples_split': 0.1, 'n_...</td>\n",
              "      <td>0.986486</td>\n",
              "      <td>0.985993</td>\n",
              "      <td>...</td>\n",
              "      <td>0.997384</td>\n",
              "      <td>0.987998</td>\n",
              "      <td>0.005676</td>\n",
              "      <td>15</td>\n",
              "      <td>1.0</td>\n",
              "      <td>1.0</td>\n",
              "      <td>1.0</td>\n",
              "      <td>1.0</td>\n",
              "      <td>1.0</td>\n",
              "      <td>0.000000e+00</td>\n",
              "    </tr>\n",
              "    <tr>\n",
              "      <th>3</th>\n",
              "      <td>0.099156</td>\n",
              "      <td>0.001917</td>\n",
              "      <td>0.002863</td>\n",
              "      <td>0.000075</td>\n",
              "      <td>2</td>\n",
              "      <td>0.3</td>\n",
              "      <td>50</td>\n",
              "      <td>{'max_depth': 2, 'min_samples_split': 0.3, 'n_...</td>\n",
              "      <td>0.986486</td>\n",
              "      <td>0.984720</td>\n",
              "      <td>...</td>\n",
              "      <td>0.993025</td>\n",
              "      <td>0.987462</td>\n",
              "      <td>0.003272</td>\n",
              "      <td>21</td>\n",
              "      <td>1.0</td>\n",
              "      <td>1.0</td>\n",
              "      <td>1.0</td>\n",
              "      <td>1.0</td>\n",
              "      <td>1.0</td>\n",
              "      <td>0.000000e+00</td>\n",
              "    </tr>\n",
              "    <tr>\n",
              "      <th>4</th>\n",
              "      <td>0.197527</td>\n",
              "      <td>0.002862</td>\n",
              "      <td>0.003297</td>\n",
              "      <td>0.000314</td>\n",
              "      <td>2</td>\n",
              "      <td>0.3</td>\n",
              "      <td>100</td>\n",
              "      <td>{'max_depth': 2, 'min_samples_split': 0.3, 'n_...</td>\n",
              "      <td>0.985628</td>\n",
              "      <td>0.983447</td>\n",
              "      <td>...</td>\n",
              "      <td>0.996077</td>\n",
              "      <td>0.986929</td>\n",
              "      <td>0.005398</td>\n",
              "      <td>25</td>\n",
              "      <td>1.0</td>\n",
              "      <td>1.0</td>\n",
              "      <td>1.0</td>\n",
              "      <td>1.0</td>\n",
              "      <td>1.0</td>\n",
              "      <td>7.850462e-17</td>\n",
              "    </tr>\n",
              "  </tbody>\n",
              "</table>\n",
              "<p>5 rows × 21 columns</p>\n",
              "</div>\n",
              "      <button class=\"colab-df-convert\" onclick=\"convertToInteractive('df-ee7d7c66-aefb-435c-a3c0-aa39d325c7d3')\"\n",
              "              title=\"Convert this dataframe to an interactive table.\"\n",
              "              style=\"display:none;\">\n",
              "        \n",
              "  <svg xmlns=\"http://www.w3.org/2000/svg\" height=\"24px\"viewBox=\"0 0 24 24\"\n",
              "       width=\"24px\">\n",
              "    <path d=\"M0 0h24v24H0V0z\" fill=\"none\"/>\n",
              "    <path d=\"M18.56 5.44l.94 2.06.94-2.06 2.06-.94-2.06-.94-.94-2.06-.94 2.06-2.06.94zm-11 1L8.5 8.5l.94-2.06 2.06-.94-2.06-.94L8.5 2.5l-.94 2.06-2.06.94zm10 10l.94 2.06.94-2.06 2.06-.94-2.06-.94-.94-2.06-.94 2.06-2.06.94z\"/><path d=\"M17.41 7.96l-1.37-1.37c-.4-.4-.92-.59-1.43-.59-.52 0-1.04.2-1.43.59L10.3 9.45l-7.72 7.72c-.78.78-.78 2.05 0 2.83L4 21.41c.39.39.9.59 1.41.59.51 0 1.02-.2 1.41-.59l7.78-7.78 2.81-2.81c.8-.78.8-2.07 0-2.86zM5.41 20L4 18.59l7.72-7.72 1.47 1.35L5.41 20z\"/>\n",
              "  </svg>\n",
              "      </button>\n",
              "      \n",
              "  <style>\n",
              "    .colab-df-container {\n",
              "      display:flex;\n",
              "      flex-wrap:wrap;\n",
              "      gap: 12px;\n",
              "    }\n",
              "\n",
              "    .colab-df-convert {\n",
              "      background-color: #E8F0FE;\n",
              "      border: none;\n",
              "      border-radius: 50%;\n",
              "      cursor: pointer;\n",
              "      display: none;\n",
              "      fill: #1967D2;\n",
              "      height: 32px;\n",
              "      padding: 0 0 0 0;\n",
              "      width: 32px;\n",
              "    }\n",
              "\n",
              "    .colab-df-convert:hover {\n",
              "      background-color: #E2EBFA;\n",
              "      box-shadow: 0px 1px 2px rgba(60, 64, 67, 0.3), 0px 1px 3px 1px rgba(60, 64, 67, 0.15);\n",
              "      fill: #174EA6;\n",
              "    }\n",
              "\n",
              "    [theme=dark] .colab-df-convert {\n",
              "      background-color: #3B4455;\n",
              "      fill: #D2E3FC;\n",
              "    }\n",
              "\n",
              "    [theme=dark] .colab-df-convert:hover {\n",
              "      background-color: #434B5C;\n",
              "      box-shadow: 0px 1px 3px 1px rgba(0, 0, 0, 0.15);\n",
              "      filter: drop-shadow(0px 1px 2px rgba(0, 0, 0, 0.3));\n",
              "      fill: #FFFFFF;\n",
              "    }\n",
              "  </style>\n",
              "\n",
              "      <script>\n",
              "        const buttonEl =\n",
              "          document.querySelector('#df-ee7d7c66-aefb-435c-a3c0-aa39d325c7d3 button.colab-df-convert');\n",
              "        buttonEl.style.display =\n",
              "          google.colab.kernel.accessAllowed ? 'block' : 'none';\n",
              "\n",
              "        async function convertToInteractive(key) {\n",
              "          const element = document.querySelector('#df-ee7d7c66-aefb-435c-a3c0-aa39d325c7d3');\n",
              "          const dataTable =\n",
              "            await google.colab.kernel.invokeFunction('convertToInteractive',\n",
              "                                                     [key], {});\n",
              "          if (!dataTable) return;\n",
              "\n",
              "          const docLinkHtml = 'Like what you see? Visit the ' +\n",
              "            '<a target=\"_blank\" href=https://colab.research.google.com/notebooks/data_table.ipynb>data table notebook</a>'\n",
              "            + ' to learn more about interactive tables.';\n",
              "          element.innerHTML = '';\n",
              "          dataTable['output_type'] = 'display_data';\n",
              "          await google.colab.output.renderOutput(dataTable, element);\n",
              "          const docLink = document.createElement('div');\n",
              "          docLink.innerHTML = docLinkHtml;\n",
              "          element.appendChild(docLink);\n",
              "        }\n",
              "      </script>\n",
              "    </div>\n",
              "  </div>\n",
              "  "
            ],
            "text/plain": [
              "   mean_fit_time  std_fit_time  mean_score_time  std_score_time  \\\n",
              "0       0.099426      0.001736         0.002942        0.000096   \n",
              "1       0.198686      0.007450         0.003895        0.001611   \n",
              "2       0.295785      0.000834         0.003044        0.000041   \n",
              "3       0.099156      0.001917         0.002863        0.000075   \n",
              "4       0.197527      0.002862         0.003297        0.000314   \n",
              "\n",
              "  param_max_depth param_min_samples_split param_n_estimators  \\\n",
              "0               2                     0.1                 50   \n",
              "1               2                     0.1                100   \n",
              "2               2                     0.1                150   \n",
              "3               2                     0.3                 50   \n",
              "4               2                     0.3                100   \n",
              "\n",
              "                                              params  split0_test_score  \\\n",
              "0  {'max_depth': 2, 'min_samples_split': 0.1, 'n_...           0.986486   \n",
              "1  {'max_depth': 2, 'min_samples_split': 0.1, 'n_...           0.985628   \n",
              "2  {'max_depth': 2, 'min_samples_split': 0.1, 'n_...           0.986486   \n",
              "3  {'max_depth': 2, 'min_samples_split': 0.3, 'n_...           0.986486   \n",
              "4  {'max_depth': 2, 'min_samples_split': 0.3, 'n_...           0.985628   \n",
              "\n",
              "   split1_test_score  ...  split3_test_score  mean_test_score  std_test_score  \\\n",
              "0           0.985993  ...           0.990846         0.986690        0.002664   \n",
              "1           0.986842  ...           0.996513         0.987887        0.005219   \n",
              "2           0.985993  ...           0.997384         0.987998        0.005676   \n",
              "3           0.984720  ...           0.993025         0.987462        0.003272   \n",
              "4           0.983447  ...           0.996077         0.986929        0.005398   \n",
              "\n",
              "   rank_test_score  split0_train_score  split1_train_score  \\\n",
              "0               28                 1.0                 1.0   \n",
              "1               16                 1.0                 1.0   \n",
              "2               15                 1.0                 1.0   \n",
              "3               21                 1.0                 1.0   \n",
              "4               25                 1.0                 1.0   \n",
              "\n",
              "   split2_train_score  split3_train_score  mean_train_score  std_train_score  \n",
              "0                 1.0                 1.0               1.0     0.000000e+00  \n",
              "1                 1.0                 1.0               1.0     5.551115e-17  \n",
              "2                 1.0                 1.0               1.0     0.000000e+00  \n",
              "3                 1.0                 1.0               1.0     0.000000e+00  \n",
              "4                 1.0                 1.0               1.0     7.850462e-17  \n",
              "\n",
              "[5 rows x 21 columns]"
            ]
          },
          "execution_count": 37,
          "metadata": {},
          "output_type": "execute_result"
        }
      ],
      "source": [
        "# podemos obtener todos los resultados\n",
        "results = (pd.DataFrame(grid_gbm_search.cv_results_)\n",
        "            #  .sort_values(by='mean_test_score', \n",
        "            #               ascending=False)\n",
        "            #  .reset_index(drop=True)\n",
        "             )\n",
        "\n",
        "results.head()"
      ]
    },
    {
      "cell_type": "code",
      "execution_count": null,
      "metadata": {
        "colab": {
          "base_uri": "https://localhost:8080/",
          "height": 206
        },
        "id": "ksnICS0gAFKf",
        "outputId": "5ef0ff58-12ea-4c13-8c10-a444aa8f7f1c"
      },
      "outputs": [
        {
          "data": {
            "text/html": [
              "\n",
              "  <div id=\"df-1693ed86-44d0-430d-9e0a-eb76f910f83b\">\n",
              "    <div class=\"colab-df-container\">\n",
              "      <div>\n",
              "<style scoped>\n",
              "    .dataframe tbody tr th:only-of-type {\n",
              "        vertical-align: middle;\n",
              "    }\n",
              "\n",
              "    .dataframe tbody tr th {\n",
              "        vertical-align: top;\n",
              "    }\n",
              "\n",
              "    .dataframe thead th {\n",
              "        text-align: right;\n",
              "    }\n",
              "</style>\n",
              "<table border=\"1\" class=\"dataframe\">\n",
              "  <thead>\n",
              "    <tr style=\"text-align: right;\">\n",
              "      <th></th>\n",
              "      <th>mean_test_score</th>\n",
              "      <th>mean_train_score</th>\n",
              "    </tr>\n",
              "  </thead>\n",
              "  <tbody>\n",
              "    <tr>\n",
              "      <th>0</th>\n",
              "      <td>0.986690</td>\n",
              "      <td>1.0</td>\n",
              "    </tr>\n",
              "    <tr>\n",
              "      <th>1</th>\n",
              "      <td>0.987887</td>\n",
              "      <td>1.0</td>\n",
              "    </tr>\n",
              "    <tr>\n",
              "      <th>2</th>\n",
              "      <td>0.987998</td>\n",
              "      <td>1.0</td>\n",
              "    </tr>\n",
              "    <tr>\n",
              "      <th>3</th>\n",
              "      <td>0.987462</td>\n",
              "      <td>1.0</td>\n",
              "    </tr>\n",
              "    <tr>\n",
              "      <th>4</th>\n",
              "      <td>0.986929</td>\n",
              "      <td>1.0</td>\n",
              "    </tr>\n",
              "  </tbody>\n",
              "</table>\n",
              "</div>\n",
              "      <button class=\"colab-df-convert\" onclick=\"convertToInteractive('df-1693ed86-44d0-430d-9e0a-eb76f910f83b')\"\n",
              "              title=\"Convert this dataframe to an interactive table.\"\n",
              "              style=\"display:none;\">\n",
              "        \n",
              "  <svg xmlns=\"http://www.w3.org/2000/svg\" height=\"24px\"viewBox=\"0 0 24 24\"\n",
              "       width=\"24px\">\n",
              "    <path d=\"M0 0h24v24H0V0z\" fill=\"none\"/>\n",
              "    <path d=\"M18.56 5.44l.94 2.06.94-2.06 2.06-.94-2.06-.94-.94-2.06-.94 2.06-2.06.94zm-11 1L8.5 8.5l.94-2.06 2.06-.94-2.06-.94L8.5 2.5l-.94 2.06-2.06.94zm10 10l.94 2.06.94-2.06 2.06-.94-2.06-.94-.94-2.06-.94 2.06-2.06.94z\"/><path d=\"M17.41 7.96l-1.37-1.37c-.4-.4-.92-.59-1.43-.59-.52 0-1.04.2-1.43.59L10.3 9.45l-7.72 7.72c-.78.78-.78 2.05 0 2.83L4 21.41c.39.39.9.59 1.41.59.51 0 1.02-.2 1.41-.59l7.78-7.78 2.81-2.81c.8-.78.8-2.07 0-2.86zM5.41 20L4 18.59l7.72-7.72 1.47 1.35L5.41 20z\"/>\n",
              "  </svg>\n",
              "      </button>\n",
              "      \n",
              "  <style>\n",
              "    .colab-df-container {\n",
              "      display:flex;\n",
              "      flex-wrap:wrap;\n",
              "      gap: 12px;\n",
              "    }\n",
              "\n",
              "    .colab-df-convert {\n",
              "      background-color: #E8F0FE;\n",
              "      border: none;\n",
              "      border-radius: 50%;\n",
              "      cursor: pointer;\n",
              "      display: none;\n",
              "      fill: #1967D2;\n",
              "      height: 32px;\n",
              "      padding: 0 0 0 0;\n",
              "      width: 32px;\n",
              "    }\n",
              "\n",
              "    .colab-df-convert:hover {\n",
              "      background-color: #E2EBFA;\n",
              "      box-shadow: 0px 1px 2px rgba(60, 64, 67, 0.3), 0px 1px 3px 1px rgba(60, 64, 67, 0.15);\n",
              "      fill: #174EA6;\n",
              "    }\n",
              "\n",
              "    [theme=dark] .colab-df-convert {\n",
              "      background-color: #3B4455;\n",
              "      fill: #D2E3FC;\n",
              "    }\n",
              "\n",
              "    [theme=dark] .colab-df-convert:hover {\n",
              "      background-color: #434B5C;\n",
              "      box-shadow: 0px 1px 3px 1px rgba(0, 0, 0, 0.15);\n",
              "      filter: drop-shadow(0px 1px 2px rgba(0, 0, 0, 0.3));\n",
              "      fill: #FFFFFF;\n",
              "    }\n",
              "  </style>\n",
              "\n",
              "      <script>\n",
              "        const buttonEl =\n",
              "          document.querySelector('#df-1693ed86-44d0-430d-9e0a-eb76f910f83b button.colab-df-convert');\n",
              "        buttonEl.style.display =\n",
              "          google.colab.kernel.accessAllowed ? 'block' : 'none';\n",
              "\n",
              "        async function convertToInteractive(key) {\n",
              "          const element = document.querySelector('#df-1693ed86-44d0-430d-9e0a-eb76f910f83b');\n",
              "          const dataTable =\n",
              "            await google.colab.kernel.invokeFunction('convertToInteractive',\n",
              "                                                     [key], {});\n",
              "          if (!dataTable) return;\n",
              "\n",
              "          const docLinkHtml = 'Like what you see? Visit the ' +\n",
              "            '<a target=\"_blank\" href=https://colab.research.google.com/notebooks/data_table.ipynb>data table notebook</a>'\n",
              "            + ' to learn more about interactive tables.';\n",
              "          element.innerHTML = '';\n",
              "          dataTable['output_type'] = 'display_data';\n",
              "          await google.colab.output.renderOutput(dataTable, element);\n",
              "          const docLink = document.createElement('div');\n",
              "          docLink.innerHTML = docLinkHtml;\n",
              "          element.appendChild(docLink);\n",
              "        }\n",
              "      </script>\n",
              "    </div>\n",
              "  </div>\n",
              "  "
            ],
            "text/plain": [
              "   mean_test_score  mean_train_score\n",
              "0         0.986690               1.0\n",
              "1         0.987887               1.0\n",
              "2         0.987998               1.0\n",
              "3         0.987462               1.0\n",
              "4         0.986929               1.0"
            ]
          },
          "execution_count": 38,
          "metadata": {},
          "output_type": "execute_result"
        }
      ],
      "source": [
        "results[['mean_test_score','mean_train_score']].head()"
      ]
    },
    {
      "cell_type": "code",
      "execution_count": null,
      "metadata": {
        "colab": {
          "base_uri": "https://localhost:8080/"
        },
        "id": "Nylp-wfjVtRT",
        "outputId": "f3e51a4e-68de-4b43-ba03-2221092e183a"
      },
      "outputs": [
        {
          "name": "stdout",
          "output_type": "stream",
          "text": [
            "0.9998411191855808\n",
            "0.9861964342578998\n"
          ]
        }
      ],
      "source": [
        "print(results.mean_train_score.mean())\n",
        "print(results.mean_test_score.mean())"
      ]
    },
    {
      "cell_type": "code",
      "execution_count": null,
      "metadata": {
        "id": "1fzdnLI3VtcD"
      },
      "outputs": [],
      "source": []
    },
    {
      "cell_type": "code",
      "execution_count": null,
      "metadata": {
        "colab": {
          "base_uri": "https://localhost:8080/",
          "height": 296
        },
        "id": "1JjTp9HHAFXT",
        "outputId": "a0d55461-f46f-4f37-eed2-3c5ab13939c3"
      },
      "outputs": [
        {
          "data": {
            "text/plain": [
              "Text(0.5, 0, 'Combinaciones de hiperparametros')"
            ]
          },
          "execution_count": 40,
          "metadata": {},
          "output_type": "execute_result"
        },
        {
          "data": {
            "image/png": "[encoded data removed]",
            "text/plain": [
              "<Figure size 432x288 with 1 Axes>"
            ]
          },
          "metadata": {
            "needs_background": "light"
          },
          "output_type": "display_data"
        }
      ],
      "source": [
        "# Graficamos los resultados\n",
        "results['mean_test_score'].plot(yerr=[results['std_test_score'], results['std_test_score']], subplots=True)\n",
        "\n",
        "plt.ylabel('Mean test score')\n",
        "plt.xlabel('Combinaciones de hiperparametros')"
      ]
    },
    {
      "cell_type": "markdown",
      "metadata": {
        "id": "IWFLyrUDzYR9"
      },
      "source": [
        "## __`RandomizedSearchCV`__"
      ]
    },
    {
      "cell_type": "markdown",
      "metadata": {
        "id": "xmS7Xjey-34Z"
      },
      "source": [
        "Referecnias:\n",
        "\n",
        "1. [Randomized search on hyper parameters](https://scikit-learn.org/stable/modules/generated/sklearn.model_selection.RandomizedSearchCV.html)\n",
        "2. [Randomized Parameter Optimization](https://scikit-learn.org/stable/modules/grid_search.html#randomized-parameter-optimization)"
      ]
    },
    {
      "cell_type": "code",
      "execution_count": null,
      "metadata": {
        "id": "x8Llyayfv7w8"
      },
      "outputs": [],
      "source": [
        "from sklearn.model_selection import RandomizedSearchCV"
      ]
    },
    {
      "cell_type": "code",
      "execution_count": null,
      "metadata": {
        "id": "aAjqLuKtBr3y"
      },
      "outputs": [],
      "source": [
        "# Partimos los datos\n",
        "X_train, X_test, y_train, y_test = train_test_split(\n",
        "    X, y, test_size=0.3, random_state=0)"
      ]
    },
    {
      "cell_type": "code",
      "execution_count": null,
      "metadata": {
        "id": "xhdDxfE88RBo"
      },
      "outputs": [],
      "source": []
    },
    {
      "cell_type": "markdown",
      "metadata": {
        "id": "e8E7ik2r8Rss"
      },
      "source": [
        "__`RandomizedSearchCV`__ toma muestras de los rangos seleccionados en el __param grid__, para esta tarea podemos usar:"
      ]
    },
    {
      "cell_type": "markdown",
      "metadata": {
        "id": "x07Pa7AD9BBw"
      },
      "source": [
        "* `stats.randint(i, n)` para tomar una muestra de enteros en el intervalo (i, n) \n",
        "* `stats.uniform(a, b)` para tomar una muestra de los reales en el intervalo (a, b) \n",
        "* `(class_01, class_02, class_03, class_04)` para seleccionar alguna de las clases"
      ]
    },
    {
      "cell_type": "code",
      "execution_count": null,
      "metadata": {
        "id": "cvTT8tBkF6pd"
      },
      "outputs": [],
      "source": [
        "# # instanciamos un gbm\n",
        "gbm = GradientBoostingClassifier(random_state=0)"
      ]
    },
    {
      "cell_type": "code",
      "execution_count": null,
      "metadata": {
        "id": "bkK6v5GTXsFa"
      },
      "outputs": [],
      "source": []
    },
    {
      "cell_type": "code",
      "execution_count": null,
      "metadata": {
        "id": "2NBhylfuClXh"
      },
      "outputs": [],
      "source": [
        "# Creamos el espacio de hiperparametros\n",
        "param_grid = dict(\n",
        "    n_estimators=stats.randint(50, 150),\n",
        "    min_samples_split=stats.uniform(.1, .7),\n",
        "    max_depth=stats.randint(2, 15)\n",
        "    )"
      ]
    },
    {
      "cell_type": "code",
      "execution_count": null,
      "metadata": {
        "id": "4A7QQyuVHWm6"
      },
      "outputs": [],
      "source": []
    },
    {
      "cell_type": "markdown",
      "metadata": {
        "id": "7NGlvX1UCmQ-"
      },
      "source": [
        "Con el parametro `n_iter` indicamos cuantos ajustes deseamos que sean realizados"
      ]
    },
    {
      "cell_type": "code",
      "execution_count": null,
      "metadata": {
        "id": "uj2wQUBNv7t_"
      },
      "outputs": [],
      "source": [
        "# Create el objeto RandomizedSearchCV\n",
        "rand_gbm_search = RandomizedSearchCV(gbm,\n",
        "                                     param_grid,\n",
        "                                     scoring='roc_auc',\n",
        "                                     cv=4,\n",
        "                                     n_iter = 40, # Con este argumento indicamos cuantas muestras queremos que sean tomadas (arriba de 40 es un bune numero)\n",
        "                                     random_state=10,\n",
        "                                     n_jobs=-1,\n",
        "                                     refit=True)"
      ]
    },
    {
      "cell_type": "code",
      "execution_count": null,
      "metadata": {
        "colab": {
          "base_uri": "https://localhost:8080/"
        },
        "id": "5871H88Hv7zZ",
        "outputId": "7434c4f2-5ebd-4d42-a5a6-9b9958cf9861"
      },
      "outputs": [
        {
          "name": "stdout",
          "output_type": "stream",
          "text": [
            "CPU times: user 1.06 s, sys: 37 ms, total: 1.09 s\n",
            "Wall time: 25.9 s\n"
          ]
        },
        {
          "data": {
            "text/plain": [
              "RandomizedSearchCV(cv=4, estimator=GradientBoostingClassifier(random_state=0),\n",
              "                   n_iter=40, n_jobs=-1,\n",
              "                   param_distributions={'max_depth': <scipy.stats._distn_infrastructure.rv_frozen object at 0x7f642da38fd0>,\n",
              "                                        'min_samples_split': <scipy.stats._distn_infrastructure.rv_frozen object at 0x7f642da37550>,\n",
              "                                        'n_estimators': <scipy.stats._distn_infrastructure.rv_frozen object at 0x7f642dece6d0>},\n",
              "                   random_state=10, scoring='roc_auc')"
            ]
          },
          "execution_count": 47,
          "metadata": {},
          "output_type": "execute_result"
        }
      ],
      "source": [
        "%%time\n",
        "rand_gbm_search.fit(X_train, y_train)"
      ]
    },
    {
      "cell_type": "code",
      "execution_count": null,
      "metadata": {
        "id": "1gipERg_J-Wk"
      },
      "outputs": [],
      "source": [
        "# Usamos random_rf para generar predicciones\n",
        "y_pred = rand_gbm_search.predict(X_test)"
      ]
    },
    {
      "cell_type": "code",
      "execution_count": null,
      "metadata": {
        "colab": {
          "base_uri": "https://localhost:8080/"
        },
        "id": "axXBKwBZKM6i",
        "outputId": "bdcb1c19-7ea8-48fe-d054-6f1fe18489cd"
      },
      "outputs": [
        {
          "name": "stdout",
          "output_type": "stream",
          "text": [
            "              precision    recall  f1-score   support\n",
            "\n",
            "           0       0.98      0.99      0.99       108\n",
            "           1       0.98      0.97      0.98        63\n",
            "\n",
            "    accuracy                           0.98       171\n",
            "   macro avg       0.98      0.98      0.98       171\n",
            "weighted avg       0.98      0.98      0.98       171\n",
            "\n",
            "------------------------------\n",
            "0.9794973544973545\n"
          ]
        }
      ],
      "source": [
        "print(classification_report(y_test, y_pred))\n",
        "print('-'*30)\n",
        "print(roc_auc_score(y_test, y_pred))"
      ]
    },
    {
      "cell_type": "code",
      "execution_count": null,
      "metadata": {
        "colab": {
          "base_uri": "https://localhost:8080/"
        },
        "id": "8PdT-mRY0BTF",
        "outputId": "b19e650b-4cce-4f28-e89d-a25ec8cb0f58"
      },
      "outputs": [
        {
          "name": "stdout",
          "output_type": "stream",
          "text": [
            "{'max_depth': 5, 'min_samples_split': 0.36420846531236595, 'n_estimators': 112}\n"
          ]
        }
      ],
      "source": [
        "print(rand_gbm_search.best_params_)"
      ]
    },
    {
      "cell_type": "code",
      "execution_count": null,
      "metadata": {
        "id": "q9RJg30iGl1l"
      },
      "outputs": [],
      "source": [
        "results = (pd.DataFrame(rand_gbm_search.cv_results_)\n",
        "             .sort_values(by='mean_test_score', ascending=False)\n",
        "             .reset_index(drop=True))"
      ]
    },
    {
      "cell_type": "code",
      "execution_count": null,
      "metadata": {
        "colab": {
          "base_uri": "https://localhost:8080/",
          "height": 143
        },
        "id": "Twd99I-6HBly",
        "outputId": "3290e112-de9e-4f5e-e3aa-fafb765a0385"
      },
      "outputs": [
        {
          "data": {
            "text/html": [
              "\n",
              "  <div id=\"df-2b8f0c82-028b-4af1-a9c9-3342bf2e4faf\">\n",
              "    <div class=\"colab-df-container\">\n",
              "      <div>\n",
              "<style scoped>\n",
              "    .dataframe tbody tr th:only-of-type {\n",
              "        vertical-align: middle;\n",
              "    }\n",
              "\n",
              "    .dataframe tbody tr th {\n",
              "        vertical-align: top;\n",
              "    }\n",
              "\n",
              "    .dataframe thead th {\n",
              "        text-align: right;\n",
              "    }\n",
              "</style>\n",
              "<table border=\"1\" class=\"dataframe\">\n",
              "  <thead>\n",
              "    <tr style=\"text-align: right;\">\n",
              "      <th></th>\n",
              "      <th>param_max_depth</th>\n",
              "      <th>param_min_samples_split</th>\n",
              "      <th>param_n_estimators</th>\n",
              "      <th>mean_test_score</th>\n",
              "      <th>std_test_score</th>\n",
              "    </tr>\n",
              "  </thead>\n",
              "  <tbody>\n",
              "    <tr>\n",
              "      <th>0</th>\n",
              "      <td>5</td>\n",
              "      <td>0.364208</td>\n",
              "      <td>112</td>\n",
              "      <td>0.990586</td>\n",
              "      <td>0.004564</td>\n",
              "    </tr>\n",
              "    <tr>\n",
              "      <th>1</th>\n",
              "      <td>3</td>\n",
              "      <td>0.742442</td>\n",
              "      <td>127</td>\n",
              "      <td>0.989603</td>\n",
              "      <td>0.006588</td>\n",
              "    </tr>\n",
              "    <tr>\n",
              "      <th>2</th>\n",
              "      <td>5</td>\n",
              "      <td>0.127971</td>\n",
              "      <td>67</td>\n",
              "      <td>0.989499</td>\n",
              "      <td>0.002226</td>\n",
              "    </tr>\n",
              "  </tbody>\n",
              "</table>\n",
              "</div>\n",
              "      <button class=\"colab-df-convert\" onclick=\"convertToInteractive('df-2b8f0c82-028b-4af1-a9c9-3342bf2e4faf')\"\n",
              "              title=\"Convert this dataframe to an interactive table.\"\n",
              "              style=\"display:none;\">\n",
              "        \n",
              "  <svg xmlns=\"http://www.w3.org/2000/svg\" height=\"24px\"viewBox=\"0 0 24 24\"\n",
              "       width=\"24px\">\n",
              "    <path d=\"M0 0h24v24H0V0z\" fill=\"none\"/>\n",
              "    <path d=\"M18.56 5.44l.94 2.06.94-2.06 2.06-.94-2.06-.94-.94-2.06-.94 2.06-2.06.94zm-11 1L8.5 8.5l.94-2.06 2.06-.94-2.06-.94L8.5 2.5l-.94 2.06-2.06.94zm10 10l.94 2.06.94-2.06 2.06-.94-2.06-.94-.94-2.06-.94 2.06-2.06.94z\"/><path d=\"M17.41 7.96l-1.37-1.37c-.4-.4-.92-.59-1.43-.59-.52 0-1.04.2-1.43.59L10.3 9.45l-7.72 7.72c-.78.78-.78 2.05 0 2.83L4 21.41c.39.39.9.59 1.41.59.51 0 1.02-.2 1.41-.59l7.78-7.78 2.81-2.81c.8-.78.8-2.07 0-2.86zM5.41 20L4 18.59l7.72-7.72 1.47 1.35L5.41 20z\"/>\n",
              "  </svg>\n",
              "      </button>\n",
              "      \n",
              "  <style>\n",
              "    .colab-df-container {\n",
              "      display:flex;\n",
              "      flex-wrap:wrap;\n",
              "      gap: 12px;\n",
              "    }\n",
              "\n",
              "    .colab-df-convert {\n",
              "      background-color: #E8F0FE;\n",
              "      border: none;\n",
              "      border-radius: 50%;\n",
              "      cursor: pointer;\n",
              "      display: none;\n",
              "      fill: #1967D2;\n",
              "      height: 32px;\n",
              "      padding: 0 0 0 0;\n",
              "      width: 32px;\n",
              "    }\n",
              "\n",
              "    .colab-df-convert:hover {\n",
              "      background-color: #E2EBFA;\n",
              "      box-shadow: 0px 1px 2px rgba(60, 64, 67, 0.3), 0px 1px 3px 1px rgba(60, 64, 67, 0.15);\n",
              "      fill: #174EA6;\n",
              "    }\n",
              "\n",
              "    [theme=dark] .colab-df-convert {\n",
              "      background-color: #3B4455;\n",
              "      fill: #D2E3FC;\n",
              "    }\n",
              "\n",
              "    [theme=dark] .colab-df-convert:hover {\n",
              "      background-color: #434B5C;\n",
              "      box-shadow: 0px 1px 3px 1px rgba(0, 0, 0, 0.15);\n",
              "      filter: drop-shadow(0px 1px 2px rgba(0, 0, 0, 0.3));\n",
              "      fill: #FFFFFF;\n",
              "    }\n",
              "  </style>\n",
              "\n",
              "      <script>\n",
              "        const buttonEl =\n",
              "          document.querySelector('#df-2b8f0c82-028b-4af1-a9c9-3342bf2e4faf button.colab-df-convert');\n",
              "        buttonEl.style.display =\n",
              "          google.colab.kernel.accessAllowed ? 'block' : 'none';\n",
              "\n",
              "        async function convertToInteractive(key) {\n",
              "          const element = document.querySelector('#df-2b8f0c82-028b-4af1-a9c9-3342bf2e4faf');\n",
              "          const dataTable =\n",
              "            await google.colab.kernel.invokeFunction('convertToInteractive',\n",
              "                                                     [key], {});\n",
              "          if (!dataTable) return;\n",
              "\n",
              "          const docLinkHtml = 'Like what you see? Visit the ' +\n",
              "            '<a target=\"_blank\" href=https://colab.research.google.com/notebooks/data_table.ipynb>data table notebook</a>'\n",
              "            + ' to learn more about interactive tables.';\n",
              "          element.innerHTML = '';\n",
              "          dataTable['output_type'] = 'display_data';\n",
              "          await google.colab.output.renderOutput(dataTable, element);\n",
              "          const docLink = document.createElement('div');\n",
              "          docLink.innerHTML = docLinkHtml;\n",
              "          element.appendChild(docLink);\n",
              "        }\n",
              "      </script>\n",
              "    </div>\n",
              "  </div>\n",
              "  "
            ],
            "text/plain": [
              "  param_max_depth param_min_samples_split param_n_estimators  mean_test_score  \\\n",
              "0               5                0.364208                112         0.990586   \n",
              "1               3                0.742442                127         0.989603   \n",
              "2               5                0.127971                 67         0.989499   \n",
              "\n",
              "   std_test_score  \n",
              "0        0.004564  \n",
              "1        0.006588  \n",
              "2        0.002226  "
            ]
          },
          "execution_count": 52,
          "metadata": {},
          "output_type": "execute_result"
        }
      ],
      "source": [
        "(results\n",
        " .loc[:,['param_max_depth', \n",
        "         'param_min_samples_split', \n",
        "         'param_n_estimators',\n",
        "         'mean_test_score', \n",
        "         'std_test_score',]]\n",
        " .head(3))"
      ]
    },
    {
      "cell_type": "code",
      "execution_count": null,
      "metadata": {
        "colab": {
          "base_uri": "https://localhost:8080/",
          "height": 296
        },
        "id": "RgtGEvxRHlP4",
        "outputId": "1ac93e0e-e364-4d74-c53f-16b81b375653"
      },
      "outputs": [
        {
          "data": {
            "text/plain": [
              "Text(0.5, 0, 'Combinaciones de hiperparametros')"
            ]
          },
          "execution_count": 53,
          "metadata": {},
          "output_type": "execute_result"
        },
        {
          "data": {
            "image/png": "[encoded data removed]",
            "text/plain": [
              "<Figure size 432x288 with 1 Axes>"
            ]
          },
          "metadata": {
            "needs_background": "light"
          },
          "output_type": "display_data"
        }
      ],
      "source": [
        "# Graficamos el performance del modelo y el error\n",
        "results['mean_test_score'].plot(yerr=[results['std_test_score'], results['std_test_score']], subplots=True)\n",
        "\n",
        "plt.ylabel('Mean test score')\n",
        "plt.xlabel('Combinaciones de hiperparametros')"
      ]
    },
    {
      "cell_type": "markdown",
      "metadata": {
        "id": "zQ3-0daDmkTK"
      },
      "source": [
        "## Métodos de optimización bayesiana"
      ]
    },
    {
      "cell_type": "markdown",
      "metadata": {
        "id": "kE8_WjHImoS4"
      },
      "source": [
        "* [scikit opt](https://scikit-optimize.github.io/stable/)\n",
        "* [optuna](https://optuna.org/)\n",
        "* [hyperopt](https://github.com/hyperopt/hyperopt)"
      ]
    },
    {
      "cell_type": "markdown",
      "metadata": {
        "id": "ODkBDAuiFo-o"
      },
      "source": [
        "### scikit opt"
      ]
    },
    {
      "cell_type": "code",
      "execution_count": null,
      "metadata": {
        "colab": {
          "base_uri": "https://localhost:8080/"
        },
        "id": "AW55V7F4B5hR",
        "outputId": "07ffc6f5-c1f4-4d45-d4a4-b087830e0e41"
      },
      "outputs": [
        {
          "name": "stdout",
          "output_type": "stream",
          "text": [
            "Looking in indexes: https://pypi.org/simple, https://us-python.pkg.dev/colab-wheels/public/simple/\n",
            "Collecting scikit-optimize\n",
            "  Downloading scikit_optimize-0.9.0-py2.py3-none-any.whl (100 kB)\n",
            "\u001b[K     |████████████████████████████████| 100 kB 8.4 MB/s \n",
            "\u001b[?25hRequirement already satisfied: numpy>=1.13.3 in /usr/local/lib/python3.7/dist-packages (from scikit-optimize) (1.21.6)\n",
            "Requirement already satisfied: scikit-learn>=0.20.0 in /usr/local/lib/python3.7/dist-packages (from scikit-optimize) (1.0.2)\n",
            "Requirement already satisfied: joblib>=0.11 in /usr/local/lib/python3.7/dist-packages (from scikit-optimize) (1.1.0)\n",
            "Collecting pyaml>=16.9\n",
            "  Downloading pyaml-21.10.1-py2.py3-none-any.whl (24 kB)\n",
            "Requirement already satisfied: scipy>=0.19.1 in /usr/local/lib/python3.7/dist-packages (from scikit-optimize) (1.7.3)\n",
            "Requirement already satisfied: PyYAML in /usr/local/lib/python3.7/dist-packages (from pyaml>=16.9->scikit-optimize) (6.0)\n",
            "Requirement already satisfied: threadpoolctl>=2.0.0 in /usr/local/lib/python3.7/dist-packages (from scikit-learn>=0.20.0->scikit-optimize) (3.1.0)\n",
            "Installing collected packages: pyaml, scikit-optimize\n",
            "Successfully installed pyaml-21.10.1 scikit-optimize-0.9.0\n"
          ]
        }
      ],
      "source": [
        "!pip install scikit-optimize"
      ]
    },
    {
      "cell_type": "code",
      "execution_count": null,
      "metadata": {
        "id": "NAm1ff3JBdJE"
      },
      "outputs": [],
      "source": [
        "from skopt import BayesSearchCV"
      ]
    },
    {
      "cell_type": "code",
      "execution_count": null,
      "metadata": {
        "colab": {
          "base_uri": "https://localhost:8080/"
        },
        "id": "J3HX-X4mCCIt",
        "outputId": "418e9690-f27a-434a-fd6b-072ba9d9672d"
      },
      "outputs": [
        {
          "name": "stderr",
          "output_type": "stream",
          "text": [
            "/usr/local/lib/python3.7/dist-packages/sklearn/utils/deprecation.py:87: FutureWarning: Function load_boston is deprecated; `load_boston` is deprecated in 1.0 and will be removed in 1.2.\n",
            "\n",
            "    The Boston housing prices dataset has an ethical problem. You can refer to\n",
            "    the documentation of this function for further details.\n",
            "\n",
            "    The scikit-learn maintainers therefore strongly discourage the use of this\n",
            "    dataset unless the purpose of the code is to study and educate about\n",
            "    ethical issues in data science and machine learning.\n",
            "\n",
            "    In this special case, you can fetch the dataset from the original\n",
            "    source::\n",
            "\n",
            "        import pandas as pd\n",
            "        import numpy as np\n",
            "\n",
            "\n",
            "        data_url = \"http://lib.stat.cmu.edu/datasets/boston\"\n",
            "        raw_df = pd.read_csv(data_url, sep=\"\\s+\", skiprows=22, header=None)\n",
            "        data = np.hstack([raw_df.values[::2, :], raw_df.values[1::2, :2]])\n",
            "        target = raw_df.values[1::2, 2]\n",
            "\n",
            "    Alternative datasets include the California housing dataset (i.e.\n",
            "    :func:`~sklearn.datasets.fetch_california_housing`) and the Ames housing\n",
            "    dataset. You can load the datasets as follows::\n",
            "\n",
            "        from sklearn.datasets import fetch_california_housing\n",
            "        housing = fetch_california_housing()\n",
            "\n",
            "    for the California housing dataset and::\n",
            "\n",
            "        from sklearn.datasets import fetch_openml\n",
            "        housing = fetch_openml(name=\"house_prices\", as_frame=True)\n",
            "\n",
            "    for the Ames housing dataset.\n",
            "    \n",
            "  warnings.warn(msg, category=FutureWarning)\n"
          ]
        }
      ],
      "source": [
        "# load dataset\n",
        "boston_X, boston_y = load_boston(return_X_y=True)\n",
        "X = pd.DataFrame(boston_X)\n",
        "y = pd.Series(boston_y)"
      ]
    },
    {
      "cell_type": "code",
      "execution_count": null,
      "metadata": {
        "colab": {
          "base_uri": "https://localhost:8080/"
        },
        "id": "9oqvd3VDCCOX",
        "outputId": "824e46d9-0c83-4fef-828a-51ef57364a2d"
      },
      "outputs": [
        {
          "data": {
            "text/plain": [
              "((354, 13), (152, 13))"
            ]
          },
          "execution_count": 57,
          "metadata": {},
          "output_type": "execute_result"
        }
      ],
      "source": [
        "# split dataset into a train and test set\n",
        "\n",
        "X_train, X_test, y_train, y_test = train_test_split(\n",
        "    X, y, test_size=0.3, random_state=0)\n",
        "\n",
        "X_train.shape, X_test.shape"
      ]
    },
    {
      "cell_type": "code",
      "execution_count": null,
      "metadata": {
        "id": "0OyjTPITCCRG"
      },
      "outputs": [],
      "source": [
        "# set up the model\n",
        "gbm = GradientBoostingRegressor(random_state=0)"
      ]
    },
    {
      "cell_type": "code",
      "execution_count": null,
      "metadata": {
        "id": "CLYOZGSnCCTe"
      },
      "outputs": [],
      "source": [
        "# hyperparameter space\n",
        "\n",
        "param_grid = {\n",
        "    'n_estimators': (10, 120), \n",
        "    'min_samples_split': (0.001, 0.99, 'log-uniform'),\n",
        "    'max_depth': (1, 8),\n",
        "    'loss': ['ls', 'lad', 'huber'],\n",
        "}"
      ]
    },
    {
      "cell_type": "code",
      "execution_count": null,
      "metadata": {
        "id": "FZOLfMsZCCV6"
      },
      "outputs": [],
      "source": [
        "# set up the search\n",
        "search = BayesSearchCV(estimator=gbm,\n",
        "                       search_spaces=param_grid,\n",
        "                       scoring='neg_mean_squared_error',\n",
        "                       cv=3,\n",
        "                       n_iter=30,\n",
        "                       random_state=10,\n",
        "                       n_jobs=-1,\n",
        "                       refit=True)"
      ]
    },
    {
      "cell_type": "code",
      "execution_count": null,
      "metadata": {
        "colab": {
          "base_uri": "https://localhost:8080/"
        },
        "id": "XNJ6QPhfCjHL",
        "outputId": "27dc50c5-d571-4c1a-dec7-1c352e1ecfa1"
      },
      "outputs": [
        {
          "name": "stderr",
          "output_type": "stream",
          "text": [
            "/usr/local/lib/python3.7/dist-packages/skopt/optimizer/optimizer.py:449: UserWarning: The objective has been evaluated at this point before.\n",
            "  warnings.warn(\"The objective has been evaluated \"\n",
            "/usr/local/lib/python3.7/dist-packages/skopt/optimizer/optimizer.py:449: UserWarning: The objective has been evaluated at this point before.\n",
            "  warnings.warn(\"The objective has been evaluated \"\n",
            "/usr/local/lib/python3.7/dist-packages/skopt/optimizer/optimizer.py:449: UserWarning: The objective has been evaluated at this point before.\n",
            "  warnings.warn(\"The objective has been evaluated \"\n",
            "/usr/local/lib/python3.7/dist-packages/skopt/optimizer/optimizer.py:449: UserWarning: The objective has been evaluated at this point before.\n",
            "  warnings.warn(\"The objective has been evaluated \"\n",
            "/usr/local/lib/python3.7/dist-packages/skopt/optimizer/optimizer.py:449: UserWarning: The objective has been evaluated at this point before.\n",
            "  warnings.warn(\"The objective has been evaluated \"\n"
          ]
        },
        {
          "data": {
            "text/plain": [
              "BayesSearchCV(cv=3, estimator=GradientBoostingRegressor(random_state=0),\n",
              "              n_iter=30, n_jobs=-1, random_state=10,\n",
              "              scoring='neg_mean_squared_error',\n",
              "              search_spaces={'loss': ['ls', 'lad', 'huber'],\n",
              "                             'max_depth': (1, 8),\n",
              "                             'min_samples_split': (0.001, 0.99, 'log-uniform'),\n",
              "                             'n_estimators': (10, 120)})"
            ]
          },
          "execution_count": 61,
          "metadata": {},
          "output_type": "execute_result"
        }
      ],
      "source": [
        "# find best hyperparameters\n",
        "search.fit(X_train, y_train)"
      ]
    },
    {
      "cell_type": "code",
      "execution_count": null,
      "metadata": {
        "colab": {
          "base_uri": "https://localhost:8080/"
        },
        "id": "KGfP2JCfCjJ-",
        "outputId": "88359f3d-04d3-484f-c975-92a2454f8822"
      },
      "outputs": [
        {
          "data": {
            "text/plain": [
              "OrderedDict([('loss', 'huber'),\n",
              "             ('max_depth', 3),\n",
              "             ('min_samples_split', 0.001),\n",
              "             ('n_estimators', 119)])"
            ]
          },
          "execution_count": 62,
          "metadata": {},
          "output_type": "execute_result"
        }
      ],
      "source": [
        "# the best hyperparameters are stored in an attribute\n",
        "search.best_params_"
      ]
    },
    {
      "cell_type": "code",
      "execution_count": null,
      "metadata": {
        "colab": {
          "base_uri": "https://localhost:8080/"
        },
        "id": "9Z45t3HcCjM3",
        "outputId": "a4d91b3d-6391-4aed-caf7-3e66f68deb73"
      },
      "outputs": [
        {
          "data": {
            "text/plain": [
              "-11.101044956670878"
            ]
          },
          "execution_count": 63,
          "metadata": {},
          "output_type": "execute_result"
        }
      ],
      "source": [
        "# the best score\n",
        "search.best_score_"
      ]
    },
    {
      "cell_type": "code",
      "execution_count": null,
      "metadata": {
        "colab": {
          "base_uri": "https://localhost:8080/",
          "height": 461
        },
        "id": "Baf9Vt5KCjPG",
        "outputId": "32071e33-2e11-42a9-b8fa-c93aee10fbcc"
      },
      "outputs": [
        {
          "name": "stdout",
          "output_type": "stream",
          "text": [
            "(30, 15)\n"
          ]
        },
        {
          "data": {
            "text/html": [
              "\n",
              "  <div id=\"df-5cc20724-21f6-46a9-aadb-727dd2265706\">\n",
              "    <div class=\"colab-df-container\">\n",
              "      <div>\n",
              "<style scoped>\n",
              "    .dataframe tbody tr th:only-of-type {\n",
              "        vertical-align: middle;\n",
              "    }\n",
              "\n",
              "    .dataframe tbody tr th {\n",
              "        vertical-align: top;\n",
              "    }\n",
              "\n",
              "    .dataframe thead th {\n",
              "        text-align: right;\n",
              "    }\n",
              "</style>\n",
              "<table border=\"1\" class=\"dataframe\">\n",
              "  <thead>\n",
              "    <tr style=\"text-align: right;\">\n",
              "      <th></th>\n",
              "      <th>mean_fit_time</th>\n",
              "      <th>std_fit_time</th>\n",
              "      <th>mean_score_time</th>\n",
              "      <th>std_score_time</th>\n",
              "      <th>param_loss</th>\n",
              "      <th>param_max_depth</th>\n",
              "      <th>param_min_samples_split</th>\n",
              "      <th>param_n_estimators</th>\n",
              "      <th>params</th>\n",
              "      <th>split0_test_score</th>\n",
              "      <th>split1_test_score</th>\n",
              "      <th>split2_test_score</th>\n",
              "      <th>mean_test_score</th>\n",
              "      <th>std_test_score</th>\n",
              "      <th>rank_test_score</th>\n",
              "    </tr>\n",
              "  </thead>\n",
              "  <tbody>\n",
              "    <tr>\n",
              "      <th>0</th>\n",
              "      <td>0.255805</td>\n",
              "      <td>0.044921</td>\n",
              "      <td>0.001911</td>\n",
              "      <td>0.000283</td>\n",
              "      <td>huber</td>\n",
              "      <td>3</td>\n",
              "      <td>0.044228</td>\n",
              "      <td>80</td>\n",
              "      <td>{'loss': 'huber', 'max_depth': 3, 'min_samples...</td>\n",
              "      <td>-10.558287</td>\n",
              "      <td>-16.394026</td>\n",
              "      <td>-13.460963</td>\n",
              "      <td>-13.471092</td>\n",
              "      <td>2.382441</td>\n",
              "      <td>14</td>\n",
              "    </tr>\n",
              "    <tr>\n",
              "      <th>1</th>\n",
              "      <td>0.043876</td>\n",
              "      <td>0.005240</td>\n",
              "      <td>0.001971</td>\n",
              "      <td>0.000396</td>\n",
              "      <td>ls</td>\n",
              "      <td>2</td>\n",
              "      <td>0.308189</td>\n",
              "      <td>76</td>\n",
              "      <td>{'loss': 'ls', 'max_depth': 2, 'min_samples_sp...</td>\n",
              "      <td>-11.740731</td>\n",
              "      <td>-18.260354</td>\n",
              "      <td>-14.708708</td>\n",
              "      <td>-14.903264</td>\n",
              "      <td>2.665178</td>\n",
              "      <td>19</td>\n",
              "    </tr>\n",
              "    <tr>\n",
              "      <th>2</th>\n",
              "      <td>0.129225</td>\n",
              "      <td>0.021458</td>\n",
              "      <td>0.001926</td>\n",
              "      <td>0.000368</td>\n",
              "      <td>lad</td>\n",
              "      <td>3</td>\n",
              "      <td>0.002288</td>\n",
              "      <td>48</td>\n",
              "      <td>{'loss': 'lad', 'max_depth': 3, 'min_samples_s...</td>\n",
              "      <td>-9.253265</td>\n",
              "      <td>-17.728812</td>\n",
              "      <td>-18.140297</td>\n",
              "      <td>-15.040791</td>\n",
              "      <td>4.095845</td>\n",
              "      <td>20</td>\n",
              "    </tr>\n",
              "    <tr>\n",
              "      <th>3</th>\n",
              "      <td>0.091086</td>\n",
              "      <td>0.011079</td>\n",
              "      <td>0.002239</td>\n",
              "      <td>0.000299</td>\n",
              "      <td>ls</td>\n",
              "      <td>5</td>\n",
              "      <td>0.001897</td>\n",
              "      <td>90</td>\n",
              "      <td>{'loss': 'ls', 'max_depth': 5, 'min_samples_sp...</td>\n",
              "      <td>-17.641456</td>\n",
              "      <td>-26.860518</td>\n",
              "      <td>-9.886990</td>\n",
              "      <td>-18.129655</td>\n",
              "      <td>6.938007</td>\n",
              "      <td>26</td>\n",
              "    </tr>\n",
              "    <tr>\n",
              "      <th>4</th>\n",
              "      <td>0.047914</td>\n",
              "      <td>0.006076</td>\n",
              "      <td>0.001979</td>\n",
              "      <td>0.000267</td>\n",
              "      <td>ls</td>\n",
              "      <td>4</td>\n",
              "      <td>0.054687</td>\n",
              "      <td>54</td>\n",
              "      <td>{'loss': 'ls', 'max_depth': 4, 'min_samples_sp...</td>\n",
              "      <td>-11.734966</td>\n",
              "      <td>-26.734377</td>\n",
              "      <td>-11.014968</td>\n",
              "      <td>-16.494771</td>\n",
              "      <td>7.246459</td>\n",
              "      <td>23</td>\n",
              "    </tr>\n",
              "  </tbody>\n",
              "</table>\n",
              "</div>\n",
              "      <button class=\"colab-df-convert\" onclick=\"convertToInteractive('df-5cc20724-21f6-46a9-aadb-727dd2265706')\"\n",
              "              title=\"Convert this dataframe to an interactive table.\"\n",
              "              style=\"display:none;\">\n",
              "        \n",
              "  <svg xmlns=\"http://www.w3.org/2000/svg\" height=\"24px\"viewBox=\"0 0 24 24\"\n",
              "       width=\"24px\">\n",
              "    <path d=\"M0 0h24v24H0V0z\" fill=\"none\"/>\n",
              "    <path d=\"M18.56 5.44l.94 2.06.94-2.06 2.06-.94-2.06-.94-.94-2.06-.94 2.06-2.06.94zm-11 1L8.5 8.5l.94-2.06 2.06-.94-2.06-.94L8.5 2.5l-.94 2.06-2.06.94zm10 10l.94 2.06.94-2.06 2.06-.94-2.06-.94-.94-2.06-.94 2.06-2.06.94z\"/><path d=\"M17.41 7.96l-1.37-1.37c-.4-.4-.92-.59-1.43-.59-.52 0-1.04.2-1.43.59L10.3 9.45l-7.72 7.72c-.78.78-.78 2.05 0 2.83L4 21.41c.39.39.9.59 1.41.59.51 0 1.02-.2 1.41-.59l7.78-7.78 2.81-2.81c.8-.78.8-2.07 0-2.86zM5.41 20L4 18.59l7.72-7.72 1.47 1.35L5.41 20z\"/>\n",
              "  </svg>\n",
              "      </button>\n",
              "      \n",
              "  <style>\n",
              "    .colab-df-container {\n",
              "      display:flex;\n",
              "      flex-wrap:wrap;\n",
              "      gap: 12px;\n",
              "    }\n",
              "\n",
              "    .colab-df-convert {\n",
              "      background-color: #E8F0FE;\n",
              "      border: none;\n",
              "      border-radius: 50%;\n",
              "      cursor: pointer;\n",
              "      display: none;\n",
              "      fill: #1967D2;\n",
              "      height: 32px;\n",
              "      padding: 0 0 0 0;\n",
              "      width: 32px;\n",
              "    }\n",
              "\n",
              "    .colab-df-convert:hover {\n",
              "      background-color: #E2EBFA;\n",
              "      box-shadow: 0px 1px 2px rgba(60, 64, 67, 0.3), 0px 1px 3px 1px rgba(60, 64, 67, 0.15);\n",
              "      fill: #174EA6;\n",
              "    }\n",
              "\n",
              "    [theme=dark] .colab-df-convert {\n",
              "      background-color: #3B4455;\n",
              "      fill: #D2E3FC;\n",
              "    }\n",
              "\n",
              "    [theme=dark] .colab-df-convert:hover {\n",
              "      background-color: #434B5C;\n",
              "      box-shadow: 0px 1px 3px 1px rgba(0, 0, 0, 0.15);\n",
              "      filter: drop-shadow(0px 1px 2px rgba(0, 0, 0, 0.3));\n",
              "      fill: #FFFFFF;\n",
              "    }\n",
              "  </style>\n",
              "\n",
              "      <script>\n",
              "        const buttonEl =\n",
              "          document.querySelector('#df-5cc20724-21f6-46a9-aadb-727dd2265706 button.colab-df-convert');\n",
              "        buttonEl.style.display =\n",
              "          google.colab.kernel.accessAllowed ? 'block' : 'none';\n",
              "\n",
              "        async function convertToInteractive(key) {\n",
              "          const element = document.querySelector('#df-5cc20724-21f6-46a9-aadb-727dd2265706');\n",
              "          const dataTable =\n",
              "            await google.colab.kernel.invokeFunction('convertToInteractive',\n",
              "                                                     [key], {});\n",
              "          if (!dataTable) return;\n",
              "\n",
              "          const docLinkHtml = 'Like what you see? Visit the ' +\n",
              "            '<a target=\"_blank\" href=https://colab.research.google.com/notebooks/data_table.ipynb>data table notebook</a>'\n",
              "            + ' to learn more about interactive tables.';\n",
              "          element.innerHTML = '';\n",
              "          dataTable['output_type'] = 'display_data';\n",
              "          await google.colab.output.renderOutput(dataTable, element);\n",
              "          const docLink = document.createElement('div');\n",
              "          docLink.innerHTML = docLinkHtml;\n",
              "          element.appendChild(docLink);\n",
              "        }\n",
              "      </script>\n",
              "    </div>\n",
              "  </div>\n",
              "  "
            ],
            "text/plain": [
              "   mean_fit_time  std_fit_time  mean_score_time  std_score_time param_loss  \\\n",
              "0       0.255805      0.044921         0.001911        0.000283      huber   \n",
              "1       0.043876      0.005240         0.001971        0.000396         ls   \n",
              "2       0.129225      0.021458         0.001926        0.000368        lad   \n",
              "3       0.091086      0.011079         0.002239        0.000299         ls   \n",
              "4       0.047914      0.006076         0.001979        0.000267         ls   \n",
              "\n",
              "  param_max_depth param_min_samples_split param_n_estimators  \\\n",
              "0               3                0.044228                 80   \n",
              "1               2                0.308189                 76   \n",
              "2               3                0.002288                 48   \n",
              "3               5                0.001897                 90   \n",
              "4               4                0.054687                 54   \n",
              "\n",
              "                                              params  split0_test_score  \\\n",
              "0  {'loss': 'huber', 'max_depth': 3, 'min_samples...         -10.558287   \n",
              "1  {'loss': 'ls', 'max_depth': 2, 'min_samples_sp...         -11.740731   \n",
              "2  {'loss': 'lad', 'max_depth': 3, 'min_samples_s...          -9.253265   \n",
              "3  {'loss': 'ls', 'max_depth': 5, 'min_samples_sp...         -17.641456   \n",
              "4  {'loss': 'ls', 'max_depth': 4, 'min_samples_sp...         -11.734966   \n",
              "\n",
              "   split1_test_score  split2_test_score  mean_test_score  std_test_score  \\\n",
              "0         -16.394026         -13.460963       -13.471092        2.382441   \n",
              "1         -18.260354         -14.708708       -14.903264        2.665178   \n",
              "2         -17.728812         -18.140297       -15.040791        4.095845   \n",
              "3         -26.860518          -9.886990       -18.129655        6.938007   \n",
              "4         -26.734377         -11.014968       -16.494771        7.246459   \n",
              "\n",
              "   rank_test_score  \n",
              "0               14  \n",
              "1               19  \n",
              "2               20  \n",
              "3               26  \n",
              "4               23  "
            ]
          },
          "execution_count": 64,
          "metadata": {},
          "output_type": "execute_result"
        }
      ],
      "source": [
        "# we also find the data for all models evaluated\n",
        "\n",
        "results = pd.DataFrame(search.cv_results_)\n",
        "\n",
        "print(results.shape)\n",
        "\n",
        "results.head(5)"
      ]
    },
    {
      "cell_type": "code",
      "execution_count": null,
      "metadata": {
        "colab": {
          "base_uri": "https://localhost:8080/",
          "height": 296
        },
        "id": "AxDIN9NfDANZ",
        "outputId": "6ff12e3c-bf4b-4e3b-8143-c4965e53d06e"
      },
      "outputs": [
        {
          "data": {
            "text/plain": [
              "Text(0.5, 0, 'Hyperparameter combinations')"
            ]
          },
          "execution_count": 65,
          "metadata": {},
          "output_type": "execute_result"
        },
        {
          "data": {
            "image/png": "[encoded data removed]",
            "text/plain": [
              "<Figure size 432x288 with 1 Axes>"
            ]
          },
          "metadata": {
            "needs_background": "light"
          },
          "output_type": "display_data"
        }
      ],
      "source": [
        "# we can order the different models based on their performance\n",
        "results.sort_values(by='mean_test_score', ascending=False, inplace=True)\n",
        "\n",
        "results.reset_index(drop=True, inplace=True)\n",
        "\n",
        "# plot model performance and error\n",
        "\n",
        "results['mean_test_score'].plot(yerr=[results['std_test_score'], results['std_test_score']], subplots=True)\n",
        "\n",
        "plt.ylabel('Mean test score')\n",
        "plt.xlabel('Hyperparameter combinations')"
      ]
    },
    {
      "cell_type": "code",
      "execution_count": null,
      "metadata": {
        "colab": {
          "base_uri": "https://localhost:8080/"
        },
        "id": "F8FPZQMEDAQc",
        "outputId": "ede73b5e-9113-4246-eaf5-d37b12f141a5"
      },
      "outputs": [
        {
          "name": "stdout",
          "output_type": "stream",
          "text": [
            "Train RMSE:  1.139724546394376\n",
            "Test RMSE:  4.009622818665551\n"
          ]
        }
      ],
      "source": [
        "X_train_preds = search.predict(X_train)\n",
        "X_test_preds = search.predict(X_test)\n",
        "\n",
        "print('Train RMSE: ', mean_squared_error(y_train, X_train_preds)**(1/2))\n",
        "print('Test RMSE: ', mean_squared_error(y_test, X_test_preds)**(1/2))"
      ]
    },
    {
      "cell_type": "code",
      "execution_count": null,
      "metadata": {
        "id": "q6nY0WMSDATI"
      },
      "outputs": [],
      "source": []
    },
    {
      "cell_type": "code",
      "execution_count": null,
      "metadata": {
        "id": "SJTbSPtBDAVs"
      },
      "outputs": [],
      "source": []
    },
    {
      "cell_type": "code",
      "execution_count": null,
      "metadata": {
        "id": "DzZ9gwBcDAYT"
      },
      "outputs": [],
      "source": []
    },
    {
      "cell_type": "markdown",
      "metadata": {
        "id": "Jq-ywOVvwX2y"
      },
      "source": [
        "Nota para guardar modelos revisar la siguiente [liga](https://scikit-learn.org/stable/model_persistence.html) (NO USAR PICKLs)"
      ]
    },
    {
      "cell_type": "markdown",
      "metadata": {
        "id": "KOJwFzmSK892"
      },
      "source": [
        "## Ejercicios"
      ]
    },
    {
      "cell_type": "markdown",
      "metadata": {
        "id": "emjf27FeLJDS"
      },
      "source": [
        "Considera los datos de `Heart_Attack.csv` y el siguiente preprocesamiento:"
      ]
    },
    {
      "cell_type": "code",
      "execution_count": null,
      "metadata": {
        "id": "AocLUscPK8Oc"
      },
      "outputs": [],
      "source": [
        "# Cargamos los datos\n",
        "breast_cancer_X, breast_cancer_y = load_breast_cancer(return_X_y=True)\n",
        "\n",
        "X = pd.DataFrame(breast_cancer_X)\n",
        "y = pd.Series(breast_cancer_y).map({0:1, 1:0})\n",
        "\n",
        "# Partimos en train y test"
      ]
    },
    {
      "cell_type": "code",
      "execution_count": null,
      "metadata": {
        "id": "mqT7iTDcqQJO"
      },
      "outputs": [],
      "source": [
        "X_train, X_test_val, y_train, y_test_val = train_test_split(X, y, \n",
        "                                                    test_size=0.3, \n",
        "                                                    random_state=0)"
      ]
    },
    {
      "cell_type": "code",
      "execution_count": null,
      "metadata": {
        "id": "MaYq75mPqYe6"
      },
      "outputs": [],
      "source": [
        "X_val, X_test, y_val, y_test = train_test_split(X_test_val, y_test_val,\n",
        "                                                test_size=0.3,\n",
        "                                                random_state=0)"
      ]
    },
    {
      "cell_type": "markdown",
      "metadata": {
        "id": "53jA7ppRHn0X"
      },
      "source": [
        "La idea es encontrar el mejor modelo y por cada modelo tunear sus hiperparametros, antes de empezar los ejercicios parte los datos en train y test, entrena todos los modelos con train y test usalo al final para evaluarlos todos"
      ]
    },
    {
      "cell_type": "markdown",
      "metadata": {
        "id": "HaIqTcV4LrMy"
      },
      "source": [
        "### Ejercicio 01"
      ]
    },
    {
      "cell_type": "markdown",
      "metadata": {
        "id": "9Qf_hxtsLtfD"
      },
      "source": [
        "Ajusta una __regresión logística__ y tunea sus hiperparametros con `.GridSearchCV/RandomizedSearchCV`"
      ]
    },
    {
      "cell_type": "code",
      "execution_count": null,
      "metadata": {
        "id": "YatckI6jr4Br"
      },
      "outputs": [],
      "source": [
        "# Respuesta\n",
        "lr=LogisticRegression(solver='liblinear',random_state=123,max_iter=10000)"
      ]
    },
    {
      "cell_type": "code",
      "execution_count": null,
      "metadata": {
        "id": "2OdEY4Lgozov"
      },
      "outputs": [],
      "source": [
        "param_grid=dict(penalty = ('l1','l2','elasticnet','none'),\n",
        "                C=stats.uniform(6,0.01))"
      ]
    },
    {
      "cell_type": "code",
      "execution_count": null,
      "metadata": {
        "id": "WQRg0dBppPCh"
      },
      "outputs": [],
      "source": [
        "rand_lr_search= RandomizedSearchCV(lr,\n",
        "                                   param_grid,\n",
        "                                   scoring='roc_auc',\n",
        "                                   cv=3,\n",
        "                                   n_iter=20,\n",
        "                                   random_state=10,\n",
        "                                   n_jobs=-1,\n",
        "                                   refit=True)    "
      ]
    },
    {
      "cell_type": "code",
      "execution_count": null,
      "metadata": {
        "colab": {
          "base_uri": "https://localhost:8080/"
        },
        "id": "cCyUvRe-qDcR",
        "outputId": "b860d4ff-540b-4a9f-9218-2a109c02dbda"
      },
      "outputs": [
        {
          "name": "stdout",
          "output_type": "stream",
          "text": [
            "CPU times: user 157 ms, sys: 21.4 ms, total: 178 ms\n",
            "Wall time: 2.73 s\n"
          ]
        },
        {
          "name": "stderr",
          "output_type": "stream",
          "text": [
            "/usr/local/lib/python3.7/dist-packages/sklearn/model_selection/_validation.py:372: FitFailedWarning: \n",
            "21 fits failed out of a total of 60.\n",
            "The score on these train-test partitions for these parameters will be set to nan.\n",
            "If these failures are not expected, you can try to debug them by setting error_score='raise'.\n",
            "\n",
            "Below are more details about the failures:\n",
            "--------------------------------------------------------------------------------\n",
            "18 fits failed with the following error:\n",
            "Traceback (most recent call last):\n",
            "  File \"/usr/local/lib/python3.7/dist-packages/sklearn/model_selection/_validation.py\", line 680, in _fit_and_score\n",
            "    estimator.fit(X_train, y_train, **fit_params)\n",
            "  File \"/usr/local/lib/python3.7/dist-packages/sklearn/linear_model/_logistic.py\", line 1461, in fit\n",
            "    solver = _check_solver(self.solver, self.penalty, self.dual)\n",
            "  File \"/usr/local/lib/python3.7/dist-packages/sklearn/linear_model/_logistic.py\", line 459, in _check_solver\n",
            "    solver\n",
            "ValueError: Only 'saga' solver supports elasticnet penalty, got solver=liblinear.\n",
            "\n",
            "--------------------------------------------------------------------------------\n",
            "3 fits failed with the following error:\n",
            "Traceback (most recent call last):\n",
            "  File \"/usr/local/lib/python3.7/dist-packages/sklearn/model_selection/_validation.py\", line 680, in _fit_and_score\n",
            "    estimator.fit(X_train, y_train, **fit_params)\n",
            "  File \"/usr/local/lib/python3.7/dist-packages/sklearn/linear_model/_logistic.py\", line 1461, in fit\n",
            "    solver = _check_solver(self.solver, self.penalty, self.dual)\n",
            "  File \"/usr/local/lib/python3.7/dist-packages/sklearn/linear_model/_logistic.py\", line 464, in _check_solver\n",
            "    raise ValueError(\"penalty='none' is not supported for the liblinear solver\")\n",
            "ValueError: penalty='none' is not supported for the liblinear solver\n",
            "\n",
            "  warnings.warn(some_fits_failed_message, FitFailedWarning)\n",
            "/usr/local/lib/python3.7/dist-packages/sklearn/model_selection/_search.py:972: UserWarning: One or more of the test scores are non-finite: [0.98775674 0.98887632 0.98887468 0.98895664 0.98815835        nan\n",
            " 0.98783542 0.98775674        nan        nan 0.98775674 0.98911892\n",
            " 0.98903696        nan 0.98928121        nan 0.98775674 0.98895173\n",
            "        nan        nan]\n",
            "  category=UserWarning,\n"
          ]
        },
        {
          "data": {
            "text/plain": [
              "RandomizedSearchCV(cv=3,\n",
              "                   estimator=LogisticRegression(max_iter=10000,\n",
              "                                                random_state=123,\n",
              "                                                solver='liblinear'),\n",
              "                   n_iter=20, n_jobs=-1,\n",
              "                   param_distributions={'C': <scipy.stats._distn_infrastructure.rv_frozen object at 0x7f642a2784d0>,\n",
              "                                        'penalty': ('l1', 'l2', 'elasticnet',\n",
              "                                                    'none')},\n",
              "                   random_state=10, scoring='roc_auc')"
            ]
          },
          "execution_count": 79,
          "metadata": {},
          "output_type": "execute_result"
        }
      ],
      "source": [
        "%%time\n",
        "rand_lr_search.fit(X_train,y_train)"
      ]
    },
    {
      "cell_type": "code",
      "execution_count": null,
      "metadata": {
        "colab": {
          "base_uri": "https://localhost:8080/"
        },
        "id": "Rr2pqObAqg4z",
        "outputId": "7562b172-6112-4bac-cff0-6c34430a21e1"
      },
      "outputs": [
        {
          "data": {
            "text/plain": [
              "{'C': 6.0014217004760155, 'penalty': 'l2'}"
            ]
          },
          "execution_count": 80,
          "metadata": {},
          "output_type": "execute_result"
        }
      ],
      "source": [
        "rand_lr_search.best_params_"
      ]
    },
    {
      "cell_type": "code",
      "execution_count": null,
      "metadata": {
        "id": "BjoTaTMpquNj"
      },
      "outputs": [],
      "source": [
        "y_pred=rand_lr_search.predict(X_val)"
      ]
    },
    {
      "cell_type": "code",
      "execution_count": null,
      "metadata": {
        "colab": {
          "base_uri": "https://localhost:8080/"
        },
        "id": "CiWrzjTeq8EX",
        "outputId": "8a14c575-17a1-458a-fcb7-ae2087a9e83a"
      },
      "outputs": [
        {
          "name": "stdout",
          "output_type": "stream",
          "text": [
            "              precision    recall  f1-score   support\n",
            "\n",
            "           0       0.99      0.95      0.97        78\n",
            "           1       0.91      0.98      0.94        41\n",
            "\n",
            "    accuracy                           0.96       119\n",
            "   macro avg       0.95      0.96      0.95       119\n",
            "weighted avg       0.96      0.96      0.96       119\n",
            "\n",
            "------------------------------\n",
            "0.9621638524077548\n"
          ]
        }
      ],
      "source": [
        "print(classification_report(y_val,y_pred))\n",
        "print('-'*30)\n",
        "print(roc_auc_score(y_val,y_pred))"
      ]
    },
    {
      "cell_type": "markdown",
      "metadata": {
        "id": "YvwYjsNCMCBZ"
      },
      "source": [
        "### Ejercicio 02"
      ]
    },
    {
      "cell_type": "markdown",
      "metadata": {
        "id": "t_8lGXpTMHk_"
      },
      "source": [
        "Ajusta un __random forest__ y tunea sus hiperparametros con `.GridSearchCV/RandomizedSearchCV`"
      ]
    },
    {
      "cell_type": "code",
      "execution_count": null,
      "metadata": {
        "id": "D0bJUdwOLoyd"
      },
      "outputs": [],
      "source": [
        "# Respuesta\n"
      ]
    },
    {
      "cell_type": "markdown",
      "metadata": {
        "id": "ShTfC0nkMLqt"
      },
      "source": [
        "### Ejercicio 03"
      ]
    },
    {
      "cell_type": "markdown",
      "metadata": {
        "id": "LjoDFg64MOBi"
      },
      "source": [
        "Ajusta un __xgbm__ y tunea sus hiperparametros con `.GridSearchCV/RandomizedSearchCV`"
      ]
    },
    {
      "cell_type": "code",
      "execution_count": null,
      "metadata": {
        "id": "3xkoqHZxMLzr"
      },
      "outputs": [],
      "source": [
        "# Respuesta\n"
      ]
    },
    {
      "cell_type": "markdown",
      "metadata": {
        "id": "diZuFBJ2HXTd"
      },
      "source": [
        "### Ejercicio 04"
      ]
    },
    {
      "cell_type": "markdown",
      "metadata": {
        "id": "91_TpCmBIGG_"
      },
      "source": [
        "Ajusta un __lgbm__ y tunea sus hiperparametros con `.GridSearchCV/RandomizedSearchCV`"
      ]
    },
    {
      "cell_type": "code",
      "execution_count": null,
      "metadata": {
        "id": "cWfxkHJxHa0d"
      },
      "outputs": [],
      "source": [
        "# Respuesta\n",
        "import lightgbm as lgb"
      ]
    },
    {
      "cell_type": "code",
      "execution_count": null,
      "metadata": {
        "id": "iFLHwUoxrigm"
      },
      "outputs": [],
      "source": [
        "lgbm= lgb.LGBMClassifier()"
      ]
    },
    {
      "cell_type": "code",
      "execution_count": null,
      "metadata": {
        "id": "ucAO28cvrtF3"
      },
      "outputs": [],
      "source": [
        "param_grid={'n_estimators':(40,70),\n",
        "            'learning_rate':stats.uniform(0.001,0.9),\n",
        "            'reg_lambda':stats.uniform(1,15),\n",
        "            'max_depth':stats.randint(40,50)\n",
        "\n",
        "}"
      ]
    },
    {
      "cell_type": "code",
      "execution_count": null,
      "metadata": {
        "id": "4ZAkZnYAsWMt"
      },
      "outputs": [],
      "source": [
        "rand_lgbm=RandomizedSearchCV(lgbm,\n",
        "                             param_grid,\n",
        "                             scoring='roc_auc',\n",
        "                             cv=3,\n",
        "                             n_iter=20,\n",
        "                             random_state=10,\n",
        "                             n_jobs=-1,\n",
        "                             refit=True)"
      ]
    },
    {
      "cell_type": "code",
      "execution_count": null,
      "metadata": {
        "colab": {
          "base_uri": "https://localhost:8080/"
        },
        "id": "sfDvHoUct1Ms",
        "outputId": "06c87e07-818e-4dad-f7ad-8404e99fc4ed"
      },
      "outputs": [
        {
          "data": {
            "text/plain": [
              "{'learning_rate': 0.5517490069999098,\n",
              " 'max_depth': 48,\n",
              " 'n_estimators': 70,\n",
              " 'reg_lambda': 2.3568902390636106}"
            ]
          },
          "execution_count": 94,
          "metadata": {},
          "output_type": "execute_result"
        }
      ],
      "source": [
        "rand_lgbm.best_params_"
      ]
    },
    {
      "cell_type": "code",
      "execution_count": null,
      "metadata": {
        "colab": {
          "base_uri": "https://localhost:8080/"
        },
        "id": "ePr14fVttIoT",
        "outputId": "049cb2f0-fc78-45f7-e695-01eac2486559"
      },
      "outputs": [
        {
          "name": "stdout",
          "output_type": "stream",
          "text": [
            "CPU times: user 201 ms, sys: 18.8 ms, total: 220 ms\n",
            "Wall time: 1.73 s\n"
          ]
        },
        {
          "data": {
            "text/plain": [
              "RandomizedSearchCV(cv=3, estimator=LGBMClassifier(), n_iter=20, n_jobs=-1,\n",
              "                   param_distributions={'learning_rate': <scipy.stats._distn_infrastructure.rv_frozen object at 0x7f64298fa990>,\n",
              "                                        'max_depth': <scipy.stats._distn_infrastructure.rv_frozen object at 0x7f64298fae50>,\n",
              "                                        'n_estimators': (40, 70),\n",
              "                                        'reg_lambda': <scipy.stats._distn_infrastructure.rv_frozen object at 0x7f64298fab50>},\n",
              "                   random_state=10, scoring='roc_auc')"
            ]
          },
          "execution_count": 90,
          "metadata": {},
          "output_type": "execute_result"
        }
      ],
      "source": [
        "%%time\n",
        "rand_lgbm.fit(X_train,y_train)"
      ]
    },
    {
      "cell_type": "code",
      "execution_count": null,
      "metadata": {
        "id": "eLC2INzNtWVJ"
      },
      "outputs": [],
      "source": [
        "y_pred=rand_lgbm.predict(X_val)"
      ]
    },
    {
      "cell_type": "code",
      "execution_count": null,
      "metadata": {
        "colab": {
          "base_uri": "https://localhost:8080/"
        },
        "id": "bgm7eWGWtj0h",
        "outputId": "9236586b-1be5-4685-c368-b450717794a2"
      },
      "outputs": [
        {
          "name": "stdout",
          "output_type": "stream",
          "text": [
            "              precision    recall  f1-score   support\n",
            "\n",
            "           0       0.94      0.99      0.96        78\n",
            "           1       0.97      0.88      0.92        41\n",
            "\n",
            "    accuracy                           0.95       119\n",
            "   macro avg       0.96      0.93      0.94       119\n",
            "weighted avg       0.95      0.95      0.95       119\n",
            "\n",
            "------------------------------\n",
            "0.9326141338336461\n"
          ]
        }
      ],
      "source": [
        "print(classification_report(y_val,y_pred))\n",
        "print('-'*30)\n",
        "print(roc_auc_score(y_val,y_pred))"
      ]
    },
    {
      "cell_type": "markdown",
      "metadata": {
        "id": "I4BiwMaTHcZc"
      },
      "source": [
        "### Ejercicio 05"
      ]
    },
    {
      "cell_type": "markdown",
      "metadata": {
        "id": "Vt3xpleTIICB"
      },
      "source": [
        "Usa test para evaluar todos los modelos, ¿Cual es el mejor modelo?"
      ]
    },
    {
      "cell_type": "code",
      "execution_count": null,
      "metadata": {
        "id": "_UvLIqvuHghP"
      },
      "outputs": [],
      "source": [
        "# Respuesta\n",
        "from sklearn.metrics import roc_curve\n",
        "from sklearn.metrics import roc_auc_score, plot_roc_curve"
      ]
    },
    {
      "cell_type": "code",
      "execution_count": null,
      "metadata": {
        "colab": {
          "base_uri": "https://localhost:8080/",
          "height": 630
        },
        "id": "zBMtZqVNuXmt",
        "outputId": "fac751a4-eb9e-4c10-f81f-6991d77c2329"
      },
      "outputs": [
        {
          "name": "stderr",
          "output_type": "stream",
          "text": [
            "/usr/local/lib/python3.7/dist-packages/sklearn/utils/deprecation.py:87: FutureWarning: Function plot_roc_curve is deprecated; Function :func:`plot_roc_curve` is deprecated in 1.0 and will be removed in 1.2. Use one of the class methods: :meth:`sklearn.metric.RocCurveDisplay.from_predictions` or :meth:`sklearn.metric.RocCurveDisplay.from_estimator`.\n",
            "  warnings.warn(msg, category=FutureWarning)\n",
            "/usr/local/lib/python3.7/dist-packages/sklearn/utils/deprecation.py:87: FutureWarning: Function plot_roc_curve is deprecated; Function :func:`plot_roc_curve` is deprecated in 1.0 and will be removed in 1.2. Use one of the class methods: :meth:`sklearn.metric.RocCurveDisplay.from_predictions` or :meth:`sklearn.metric.RocCurveDisplay.from_estimator`.\n",
            "  warnings.warn(msg, category=FutureWarning)\n"
          ]
        },
        {
          "data": {
            "image/png": "[encoded data removed]",
            "text/plain": [
              "<Figure size 432x288 with 1 Axes>"
            ]
          },
          "metadata": {
            "needs_background": "light"
          },
          "output_type": "display_data"
        },
        {
          "data": {
            "image/png": "[encoded data removed]",
            "text/plain": [
              "<Figure size 432x288 with 1 Axes>"
            ]
          },
          "metadata": {
            "needs_background": "light"
          },
          "output_type": "display_data"
        }
      ],
      "source": [
        "lr_c=plot_roc_curve(rand_lr_search,X_test,y_test)\n",
        "lgbm_c=plot_roc_curve(rand_lgbm,X_test,y_test)"
      ]
    },
    {
      "cell_type": "code",
      "execution_count": null,
      "metadata": {
        "colab": {
          "base_uri": "https://localhost:8080/",
          "height": 296
        },
        "id": "EXbsc51buy_u",
        "outputId": "7c73ea2b-5833-4105-9a21-dcf8ebe7b688"
      },
      "outputs": [
        {
          "data": {
            "text/plain": [
              "<sklearn.metrics._plot.roc_curve.RocCurveDisplay at 0x7f64291716d0>"
            ]
          },
          "execution_count": 97,
          "metadata": {},
          "output_type": "execute_result"
        },
        {
          "data": {
            "image/png": "[encoded data removed]",
            "text/plain": [
              "<Figure size 432x288 with 1 Axes>"
            ]
          },
          "metadata": {
            "needs_background": "light"
          },
          "output_type": "display_data"
        }
      ],
      "source": [
        "ax = plt.gca()\n",
        "lr_c.plot(ax=ax,alpha=0.8,label='Logistic Regression')\n",
        "lgbm_c.plot(ax=ax,alpha=0.8,label='LGBM')"
      ]
    },
    {
      "cell_type": "markdown",
      "metadata": {
        "id": "mbaE6HnJPV4d"
      },
      "source": [
        "## Proyecto ML"
      ]
    },
    {
      "cell_type": "markdown",
      "metadata": {
        "id": "fTFaR4tBPeV_"
      },
      "source": [
        "La idea del siguiente proyecto es emular una competencia de kaggle, se entregara un conjunto de datos y el objetivo es: \n",
        "\n",
        "__Ajustar el mejor modelo que optimice el `F1 score`__\n",
        "\n",
        "Los datos (se encuentran en la carpeta compartida dentro de 00_DATA) estan divididos en train y en test:\n",
        "\n",
        "* `fraud_train.csv` contiene los datos que serán usados para entrenar\n",
        "* `fraud_test.csv` contiene datos que deben ser scoreados (No contiene variable target)\n",
        "\n",
        "Se debe entregar un csv con una columa que contenga los pronosticos para cada uno de los registros en `fraud_test.csv`.\n",
        "\n",
        "Las etiquetas correctas del archivo `fraud_test.csv` las tenemos nosotros, las usaremos para comparar sus respuestas y definir quienes son los ganadores del proyecto"
      ]
    },
    {
      "cell_type": "code",
      "execution_count": null,
      "metadata": {
        "colab": {
          "base_uri": "https://localhost:8080/"
        },
        "id": "NAI9f5DLu1VN",
        "outputId": "3492779a-4870-442e-f983-1482234dac2b"
      },
      "outputs": [
        {
          "name": "stdout",
          "output_type": "stream",
          "text": [
            "Mounted at /content/drive\n"
          ]
        }
      ],
      "source": [
        "# Linea de ayuda para montar el drive y usar como disco duro (para leer y escribir datos) google drive desde colab\n",
        "from google.colab import drive\n",
        "drive.mount('/content/drive')"
      ]
    },
    {
      "cell_type": "code",
      "execution_count": null,
      "metadata": {
        "id": "GSdTGfTYu1dP"
      },
      "outputs": [],
      "source": [
        "# Respuesta\n"
      ]
    }
  ],
  "metadata": {
    "colab": {
      "collapsed_sections": [],
      "include_colab_link": true,
      "provenance": []
    },
    "kernelspec": {
      "display_name": "Python 3.10.8 64-bit (microsoft store)",
      "language": "python",
      "name": "python3"
    },
    "language_info": {
      "name": "python",
      "version": "3.10.8"
    },
    "vscode": {
      "interpreter": {
        "hash": "2ab61dab0ad8370fc61856a8ba95d56b359e45188f1b1883e5173a8a5e025242"
      }
    }
  },
  "nbformat": 4,
  "nbformat_minor": 0
}
