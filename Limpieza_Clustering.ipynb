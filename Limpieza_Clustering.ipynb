{
  "cells": [
    {
      "cell_type": "markdown",
      "metadata": {
        "colab_type": "text",
        "id": "view-in-github"
      },
      "source": [
        "<a href=\"https://colab.research.google.com/github/Lajs5257/DevF-MachineLearning/blob/main/Limpieza_Clustering.ipynb\" target=\"_parent\"><img src=\"https://colab.research.google.com/assets/colab-badge.svg\" alt=\"Open In Colab\"/></a>"
      ]
    },
    {
      "cell_type": "code",
      "execution_count": 2,
      "metadata": {
        "id": "UMDeVbYrjqD_"
      },
      "outputs": [],
      "source": [
        "import pandas as pd\n",
        "import numpy as np"
      ]
    },
    {
      "cell_type": "code",
      "execution_count": 6,
      "metadata": {
        "id": "VAVuneMGgX5x"
      },
      "outputs": [
        {
          "ename": "ModuleNotFoundError",
          "evalue": "No module named 'google.colab'",
          "output_type": "error",
          "traceback": [
            "\u001b[1;31m---------------------------------------------------------------------------\u001b[0m",
            "\u001b[1;31mModuleNotFoundError\u001b[0m                       Traceback (most recent call last)",
            "Cell \u001b[1;32mIn [6], line 4\u001b[0m\n\u001b[0;32m      2\u001b[0m \u001b[39mfrom\u001b[39;00m \u001b[39mpydrive\u001b[39;00m\u001b[39m.\u001b[39;00m\u001b[39mauth\u001b[39;00m \u001b[39mimport\u001b[39;00m GoogleAuth\n\u001b[0;32m      3\u001b[0m \u001b[39mfrom\u001b[39;00m \u001b[39mpydrive\u001b[39;00m\u001b[39m.\u001b[39;00m\u001b[39mdrive\u001b[39;00m \u001b[39mimport\u001b[39;00m GoogleDrive\n\u001b[1;32m----> 4\u001b[0m \u001b[39mfrom\u001b[39;00m \u001b[39mgoogle\u001b[39;00m\u001b[39m.\u001b[39;00m\u001b[39mcolab\u001b[39;00m \u001b[39mimport\u001b[39;00m auth\n\u001b[0;32m      5\u001b[0m \u001b[39mfrom\u001b[39;00m \u001b[39moauth2client\u001b[39;00m\u001b[39m.\u001b[39;00m\u001b[39mclient\u001b[39;00m \u001b[39mimport\u001b[39;00m GoogleCredentials\n",
            "\u001b[1;31mModuleNotFoundError\u001b[0m: No module named 'google.colab'"
          ]
        }
      ],
      "source": [
        "# Drive\n",
        "from pydrive.auth import GoogleAuth\n",
        "from pydrive.drive import GoogleDrive\n",
        "from google.colab import auth\n",
        "from oauth2client.client import GoogleCredentials"
      ]
    },
    {
      "cell_type": "code",
      "execution_count": 7,
      "metadata": {
        "id": "WMNStFSQgdj7"
      },
      "outputs": [
        {
          "ename": "ModuleNotFoundError",
          "evalue": "No module named 'gspread'",
          "output_type": "error",
          "traceback": [
            "\u001b[1;31m---------------------------------------------------------------------------\u001b[0m",
            "\u001b[1;31mModuleNotFoundError\u001b[0m                       Traceback (most recent call last)",
            "Cell \u001b[1;32mIn [7], line 1\u001b[0m\n\u001b[1;32m----> 1\u001b[0m \u001b[39mimport\u001b[39;00m \u001b[39mgspread\u001b[39;00m\n\u001b[0;32m      2\u001b[0m \u001b[39mimport\u001b[39;00m \u001b[39mgspread_dataframe\u001b[39;00m \u001b[39mas\u001b[39;00m \u001b[39mgd\u001b[39;00m\n\u001b[0;32m      3\u001b[0m \u001b[39mfrom\u001b[39;00m \u001b[39mgoogle\u001b[39;00m\u001b[39m.\u001b[39;00m\u001b[39mauth\u001b[39;00m \u001b[39mimport\u001b[39;00m default\n",
            "\u001b[1;31mModuleNotFoundError\u001b[0m: No module named 'gspread'"
          ]
        }
      ],
      "source": [
        "import gspread\n",
        "import gspread_dataframe as gd\n",
        "from google.auth import default\n",
        "creds, _ = default()\n",
        "gc = gspread.authorize(creds)"
      ]
    },
    {
      "cell_type": "code",
      "execution_count": 4,
      "metadata": {
        "id": "Kld6hr0mge3B"
      },
      "outputs": [],
      "source": [
        "auth.authenticate_user()\n",
        "gauth = GoogleAuth()\n",
        "gauth.credentials = GoogleCredentials.get_application_default()\n",
        "drive = GoogleDrive(gauth)"
      ]
    },
    {
      "cell_type": "code",
      "execution_count": 18,
      "metadata": {
        "colab": {
          "base_uri": "https://localhost:8080/",
          "height": 433
        },
        "id": "C1fY6P2lggaj",
        "outputId": "2f08db95-1717-4bd7-b5fa-e688d1177be4"
      },
      "outputs": [
        {
          "ename": "SpreadsheetNotFound",
          "evalue": "ignored",
          "output_type": "error",
          "traceback": [
            "\u001b[0;31m---------------------------------------------------------------------------\u001b[0m",
            "\u001b[0;31mStopIteration\u001b[0m                             Traceback (most recent call last)",
            "\u001b[0;32m/usr/local/lib/python3.7/dist-packages/gspread/client.py\u001b[0m in \u001b[0;36mopen\u001b[0;34m(self, title)\u001b[0m\n\u001b[1;32m    121\u001b[0m                 \u001b[0;32mlambda\u001b[0m \u001b[0mx\u001b[0m\u001b[0;34m:\u001b[0m \u001b[0mx\u001b[0m\u001b[0;34m[\u001b[0m\u001b[0;34m'name'\u001b[0m\u001b[0;34m]\u001b[0m \u001b[0;34m==\u001b[0m \u001b[0mtitle\u001b[0m\u001b[0;34m,\u001b[0m\u001b[0;34m\u001b[0m\u001b[0;34m\u001b[0m\u001b[0m\n\u001b[0;32m--> 122\u001b[0;31m                 \u001b[0mself\u001b[0m\u001b[0;34m.\u001b[0m\u001b[0mlist_spreadsheet_files\u001b[0m\u001b[0;34m(\u001b[0m\u001b[0mtitle\u001b[0m\u001b[0;34m)\u001b[0m\u001b[0;34m\u001b[0m\u001b[0;34m\u001b[0m\u001b[0m\n\u001b[0m\u001b[1;32m    123\u001b[0m             )\n",
            "\u001b[0;32m/usr/local/lib/python3.7/dist-packages/gspread/utils.py\u001b[0m in \u001b[0;36mfinditem\u001b[0;34m(func, seq)\u001b[0m\n\u001b[1;32m     93\u001b[0m     \"\"\"\n\u001b[0;32m---> 94\u001b[0;31m     \u001b[0;32mreturn\u001b[0m \u001b[0mnext\u001b[0m\u001b[0;34m(\u001b[0m\u001b[0;34m(\u001b[0m\u001b[0mitem\u001b[0m \u001b[0;32mfor\u001b[0m \u001b[0mitem\u001b[0m \u001b[0;32min\u001b[0m \u001b[0mseq\u001b[0m \u001b[0;32mif\u001b[0m \u001b[0mfunc\u001b[0m\u001b[0;34m(\u001b[0m\u001b[0mitem\u001b[0m\u001b[0;34m)\u001b[0m\u001b[0;34m)\u001b[0m\u001b[0;34m)\u001b[0m\u001b[0;34m\u001b[0m\u001b[0;34m\u001b[0m\u001b[0m\n\u001b[0m\u001b[1;32m     95\u001b[0m \u001b[0;34m\u001b[0m\u001b[0m\n",
            "\u001b[0;31mStopIteration\u001b[0m: ",
            "\nDuring handling of the above exception, another exception occurred:\n",
            "\u001b[0;31mSpreadsheetNotFound\u001b[0m                       Traceback (most recent call last)",
            "\u001b[0;32m<ipython-input-18-69788c24ef60>\u001b[0m in \u001b[0;36m<module>\u001b[0;34m\u001b[0m\n\u001b[1;32m      1\u001b[0m \u001b[0mnombre_rec\u001b[0m \u001b[0;34m=\u001b[0m \u001b[0;34m'Información de contacto (Respuestas)'\u001b[0m\u001b[0;34m\u001b[0m\u001b[0;34m\u001b[0m\u001b[0m\n\u001b[0;32m----> 2\u001b[0;31m \u001b[0mworksheet\u001b[0m \u001b[0;34m=\u001b[0m \u001b[0mgc\u001b[0m\u001b[0;34m.\u001b[0m\u001b[0mopen\u001b[0m\u001b[0;34m(\u001b[0m\u001b[0mnombre_rec\u001b[0m\u001b[0;34m)\u001b[0m\u001b[0;34m.\u001b[0m\u001b[0msheet1\u001b[0m\u001b[0;34m\u001b[0m\u001b[0;34m\u001b[0m\u001b[0m\n\u001b[0m\u001b[1;32m      3\u001b[0m \u001b[0mrows\u001b[0m \u001b[0;34m=\u001b[0m \u001b[0mworksheet\u001b[0m\u001b[0;34m.\u001b[0m\u001b[0mget_all_values\u001b[0m\u001b[0;34m(\u001b[0m\u001b[0;34m)\u001b[0m\u001b[0;34m\u001b[0m\u001b[0;34m\u001b[0m\u001b[0m\n\u001b[1;32m      4\u001b[0m \u001b[0mdf_coments\u001b[0m \u001b[0;34m=\u001b[0m \u001b[0mpd\u001b[0m\u001b[0;34m.\u001b[0m\u001b[0mDataFrame\u001b[0m\u001b[0;34m.\u001b[0m\u001b[0mfrom_records\u001b[0m\u001b[0;34m(\u001b[0m\u001b[0mrows\u001b[0m\u001b[0;34m)\u001b[0m\u001b[0;34m\u001b[0m\u001b[0;34m\u001b[0m\u001b[0m\n",
            "\u001b[0;32m/usr/local/lib/python3.7/dist-packages/gspread/client.py\u001b[0m in \u001b[0;36mopen\u001b[0;34m(self, title)\u001b[0m\n\u001b[1;32m    128\u001b[0m             \u001b[0;32mreturn\u001b[0m \u001b[0mSpreadsheet\u001b[0m\u001b[0;34m(\u001b[0m\u001b[0mself\u001b[0m\u001b[0;34m,\u001b[0m \u001b[0mproperties\u001b[0m\u001b[0;34m)\u001b[0m\u001b[0;34m\u001b[0m\u001b[0;34m\u001b[0m\u001b[0m\n\u001b[1;32m    129\u001b[0m         \u001b[0;32mexcept\u001b[0m \u001b[0mStopIteration\u001b[0m\u001b[0;34m:\u001b[0m\u001b[0;34m\u001b[0m\u001b[0;34m\u001b[0m\u001b[0m\n\u001b[0;32m--> 130\u001b[0;31m             \u001b[0;32mraise\u001b[0m \u001b[0mSpreadsheetNotFound\u001b[0m\u001b[0;34m\u001b[0m\u001b[0;34m\u001b[0m\u001b[0m\n\u001b[0m\u001b[1;32m    131\u001b[0m \u001b[0;34m\u001b[0m\u001b[0m\n\u001b[1;32m    132\u001b[0m     \u001b[0;32mdef\u001b[0m \u001b[0mopen_by_key\u001b[0m\u001b[0;34m(\u001b[0m\u001b[0mself\u001b[0m\u001b[0;34m,\u001b[0m \u001b[0mkey\u001b[0m\u001b[0;34m)\u001b[0m\u001b[0;34m:\u001b[0m\u001b[0;34m\u001b[0m\u001b[0;34m\u001b[0m\u001b[0m\n",
            "\u001b[0;31mSpreadsheetNotFound\u001b[0m: "
          ]
        }
      ],
      "source": [
        "nombre_rec = 'Información de contacto (Respuestas)'\n",
        "worksheet = gc.open(nombre_rec).sheet1\n",
        "rows = worksheet.get_all_values()\n",
        "df_coments = pd.DataFrame.from_records(rows)"
      ]
    },
    {
      "cell_type": "code",
      "execution_count": 9,
      "metadata": {
        "colab": {
          "base_uri": "https://localhost:8080/",
          "height": 218
        },
        "id": "Qft6vZ6bdohp",
        "outputId": "993c3cfa-afde-42a4-ab09-d39508b96dd9"
      },
      "outputs": [],
      "source": [
        "df_coments = pd.read_csv('Información de contacto (Respuestas) - Respuestas de formulario 1.csv')\n",
        "\n",
        "df_coments.columns = list(range(13))\n",
        "\n"
      ]
    },
    {
      "cell_type": "code",
      "execution_count": 10,
      "metadata": {
        "colab": {
          "base_uri": "https://localhost:8080/",
          "height": 166
        },
        "id": "VmfLfAdW1ba7",
        "outputId": "5e7d81ba-2f0b-4eef-c0d7-548210ed6f26"
      },
      "outputs": [
        {
          "data": {
            "text/html": [
              "<div>\n",
              "<style scoped>\n",
              "    .dataframe tbody tr th:only-of-type {\n",
              "        vertical-align: middle;\n",
              "    }\n",
              "\n",
              "    .dataframe tbody tr th {\n",
              "        vertical-align: top;\n",
              "    }\n",
              "\n",
              "    .dataframe thead th {\n",
              "        text-align: right;\n",
              "    }\n",
              "</style>\n",
              "<table border=\"1\" class=\"dataframe\">\n",
              "  <thead>\n",
              "    <tr style=\"text-align: right;\">\n",
              "      <th></th>\n",
              "      <th>0</th>\n",
              "      <th>1</th>\n",
              "      <th>2</th>\n",
              "      <th>3</th>\n",
              "      <th>4</th>\n",
              "      <th>5</th>\n",
              "      <th>6</th>\n",
              "      <th>7</th>\n",
              "      <th>8</th>\n",
              "      <th>9</th>\n",
              "      <th>10</th>\n",
              "      <th>11</th>\n",
              "      <th>12</th>\n",
              "    </tr>\n",
              "  </thead>\n",
              "  <tbody>\n",
              "    <tr>\n",
              "      <th>0</th>\n",
              "      <td>6/10/2022 18:48:37</td>\n",
              "      <td>adamianmm@gmail.com</td>\n",
              "      <td>Damian</td>\n",
              "      <td>3</td>\n",
              "      <td>CDMX</td>\n",
              "      <td>22</td>\n",
              "      <td>Hombre</td>\n",
              "      <td>Pop, Reggaeton, Clásica, Rock, Hip Hop</td>\n",
              "      <td>Gatos</td>\n",
              "      <td>Naruto, Grey's Anatomy, Lost</td>\n",
              "      <td>3</td>\n",
              "      <td>11:30:00 a. m.</td>\n",
              "      <td>Si</td>\n",
              "    </tr>\n",
              "    <tr>\n",
              "      <th>1</th>\n",
              "      <td>6/10/2022 18:49:07</td>\n",
              "      <td>sebastianzarraga43@aragon.unam.mx</td>\n",
              "      <td>Sebastian Zaaraga</td>\n",
              "      <td>10</td>\n",
              "      <td>Mexico</td>\n",
              "      <td>22</td>\n",
              "      <td>Hombre</td>\n",
              "      <td>Reggaeton, Hip Hop</td>\n",
              "      <td>Perros, Peces</td>\n",
              "      <td>Game of Thrones , Naruto , Sons of Anarchy</td>\n",
              "      <td>1</td>\n",
              "      <td>10:00:00 a. m.</td>\n",
              "      <td>Si</td>\n",
              "    </tr>\n",
              "  </tbody>\n",
              "</table>\n",
              "</div>"
            ],
            "text/plain": [
              "                   0                                  1                  2   \\\n",
              "0  6/10/2022 18:48:37                adamianmm@gmail.com             Damian   \n",
              "1  6/10/2022 18:49:07  sebastianzarraga43@aragon.unam.mx  Sebastian Zaaraga   \n",
              "\n",
              "   3       4   5       6                                       7   \\\n",
              "0   3    CDMX  22  Hombre  Pop, Reggaeton, Clásica, Rock, Hip Hop   \n",
              "1  10  Mexico  22  Hombre                      Reggaeton, Hip Hop   \n",
              "\n",
              "              8                                           9   10  \\\n",
              "0          Gatos                Naruto, Grey's Anatomy, Lost   3   \n",
              "1  Perros, Peces  Game of Thrones , Naruto , Sons of Anarchy   1   \n",
              "\n",
              "               11  12  \n",
              "0  11:30:00 a. m.  Si  \n",
              "1  10:00:00 a. m.  Si  "
            ]
          },
          "execution_count": 10,
          "metadata": {},
          "output_type": "execute_result"
        }
      ],
      "source": [
        "df_coments.head(2)"
      ]
    },
    {
      "cell_type": "code",
      "execution_count": 11,
      "metadata": {
        "id": "VoP2fiETgmJi"
      },
      "outputs": [
        {
          "data": {
            "text/plain": [
              "0                         6/10/2022 18:48:37\n",
              "1                        adamianmm@gmail.com\n",
              "2                                     Damian\n",
              "3                                          3\n",
              "4                                       CDMX\n",
              "5                                         22\n",
              "6                                     Hombre\n",
              "7     Pop, Reggaeton, Clásica, Rock, Hip Hop\n",
              "8                                      Gatos\n",
              "9               Naruto, Grey's Anatomy, Lost\n",
              "10                                         3\n",
              "11                            11:30:00 a. m.\n",
              "12                                        Si\n",
              "Name: 0, dtype: object"
            ]
          },
          "execution_count": 11,
          "metadata": {},
          "output_type": "execute_result"
        }
      ],
      "source": [
        "columnas = df_coments.iloc[0,:]\n",
        "columnas"
      ]
    },
    {
      "cell_type": "code",
      "execution_count": 12,
      "metadata": {
        "id": "PSkV1p1Sj_gm"
      },
      "outputs": [],
      "source": [
        "df_coments.drop(0, inplace=True)"
      ]
    },
    {
      "cell_type": "code",
      "execution_count": 13,
      "metadata": {
        "id": "6-QlfjxWXrRl"
      },
      "outputs": [
        {
          "data": {
            "text/html": [
              "<div>\n",
              "<style scoped>\n",
              "    .dataframe tbody tr th:only-of-type {\n",
              "        vertical-align: middle;\n",
              "    }\n",
              "\n",
              "    .dataframe tbody tr th {\n",
              "        vertical-align: top;\n",
              "    }\n",
              "\n",
              "    .dataframe thead th {\n",
              "        text-align: right;\n",
              "    }\n",
              "</style>\n",
              "<table border=\"1\" class=\"dataframe\">\n",
              "  <thead>\n",
              "    <tr style=\"text-align: right;\">\n",
              "      <th></th>\n",
              "      <th>0</th>\n",
              "      <th>1</th>\n",
              "      <th>2</th>\n",
              "      <th>3</th>\n",
              "      <th>4</th>\n",
              "      <th>5</th>\n",
              "      <th>6</th>\n",
              "      <th>7</th>\n",
              "      <th>8</th>\n",
              "      <th>9</th>\n",
              "      <th>10</th>\n",
              "      <th>11</th>\n",
              "      <th>12</th>\n",
              "    </tr>\n",
              "  </thead>\n",
              "  <tbody>\n",
              "    <tr>\n",
              "      <th>1</th>\n",
              "      <td>6/10/2022 18:49:07</td>\n",
              "      <td>sebastianzarraga43@aragon.unam.mx</td>\n",
              "      <td>Sebastian Zaaraga</td>\n",
              "      <td>10</td>\n",
              "      <td>Mexico</td>\n",
              "      <td>22</td>\n",
              "      <td>Hombre</td>\n",
              "      <td>Reggaeton, Hip Hop</td>\n",
              "      <td>Perros, Peces</td>\n",
              "      <td>Game of Thrones , Naruto , Sons of Anarchy</td>\n",
              "      <td>1</td>\n",
              "      <td>10:00:00 a. m.</td>\n",
              "      <td>Si</td>\n",
              "    </tr>\n",
              "    <tr>\n",
              "      <th>2</th>\n",
              "      <td>6/10/2022 18:49:16</td>\n",
              "      <td>mariogaiden2@ciencias.unam.mx</td>\n",
              "      <td>Mario Guadiana Martinez</td>\n",
              "      <td>10</td>\n",
              "      <td>Guanajuato</td>\n",
              "      <td>27</td>\n",
              "      <td>Hombre</td>\n",
              "      <td>Hip Hop</td>\n",
              "      <td>Gatos</td>\n",
              "      <td>Alf, príncipe de beler, prision break</td>\n",
              "      <td>2</td>\n",
              "      <td>11:00:00 a. m.</td>\n",
              "      <td>No</td>\n",
              "    </tr>\n",
              "    <tr>\n",
              "      <th>3</th>\n",
              "      <td>6/10/2022 18:49:33</td>\n",
              "      <td>cecy.95.ad@gmail.com</td>\n",
              "      <td>Cecilia</td>\n",
              "      <td>14</td>\n",
              "      <td>Sinaloa</td>\n",
              "      <td>26</td>\n",
              "      <td>Mujer</td>\n",
              "      <td>Pop</td>\n",
              "      <td>NaN</td>\n",
              "      <td>one piece, siete pecados capitales.</td>\n",
              "      <td>3</td>\n",
              "      <td>11:30:00 a. m.</td>\n",
              "      <td>No</td>\n",
              "    </tr>\n",
              "    <tr>\n",
              "      <th>4</th>\n",
              "      <td>6/10/2022 18:49:33</td>\n",
              "      <td>fabricioescalantep@gmail.com</td>\n",
              "      <td>Fabricio E</td>\n",
              "      <td>13</td>\n",
              "      <td>CDMX</td>\n",
              "      <td>21</td>\n",
              "      <td>Hombre</td>\n",
              "      <td>Metal, Reggaeton, Clásica, Rock, Jazz</td>\n",
              "      <td>Perros</td>\n",
              "      <td>Mindhunter, How I Met Your Mother, Attack On T...</td>\n",
              "      <td>2</td>\n",
              "      <td>3:30:00 a. m.</td>\n",
              "      <td>Si</td>\n",
              "    </tr>\n",
              "  </tbody>\n",
              "</table>\n",
              "</div>"
            ],
            "text/plain": [
              "                   0                                  1   \\\n",
              "1  6/10/2022 18:49:07  sebastianzarraga43@aragon.unam.mx   \n",
              "2  6/10/2022 18:49:16      mariogaiden2@ciencias.unam.mx   \n",
              "3  6/10/2022 18:49:33               cecy.95.ad@gmail.com   \n",
              "4  6/10/2022 18:49:33       fabricioescalantep@gmail.com   \n",
              "\n",
              "                        2   3           4   5       6   \\\n",
              "1        Sebastian Zaaraga  10      Mexico  22  Hombre   \n",
              "2  Mario Guadiana Martinez  10  Guanajuato  27  Hombre   \n",
              "3                  Cecilia  14     Sinaloa  26   Mujer   \n",
              "4               Fabricio E  13        CDMX  21  Hombre   \n",
              "\n",
              "                                      7              8   \\\n",
              "1                     Reggaeton, Hip Hop  Perros, Peces   \n",
              "2                                Hip Hop          Gatos   \n",
              "3                                    Pop            NaN   \n",
              "4  Metal, Reggaeton, Clásica, Rock, Jazz         Perros   \n",
              "\n",
              "                                                  9   10              11  12  \n",
              "1         Game of Thrones , Naruto , Sons of Anarchy   1  10:00:00 a. m.  Si  \n",
              "2              Alf, príncipe de beler, prision break   2  11:00:00 a. m.  No  \n",
              "3                one piece, siete pecados capitales.   3  11:30:00 a. m.  No  \n",
              "4  Mindhunter, How I Met Your Mother, Attack On T...   2   3:30:00 a. m.  Si  "
            ]
          },
          "execution_count": 13,
          "metadata": {},
          "output_type": "execute_result"
        }
      ],
      "source": [
        "df_coments.head(4)"
      ]
    },
    {
      "cell_type": "code",
      "execution_count": 14,
      "metadata": {
        "colab": {
          "base_uri": "https://localhost:8080/"
        },
        "id": "U0b0KbKUkbJk",
        "outputId": "d01078c9-6254-4714-bc17-e9135df37f3f"
      },
      "outputs": [
        {
          "name": "stderr",
          "output_type": "stream",
          "text": [
            "C:\\Users\\lajs5\\AppData\\Local\\Temp\\ipykernel_27272\\3432565158.py:2: FutureWarning: The behavior of `series[i:j]` with an integer-dtype index is deprecated. In a future version, this will be treated as *label-based* indexing, consistent with e.g. `series[i]` lookups. To retain the old behavior, use `series.iloc[i:j]`. To get the future behavior, use `series.loc[i:j]`.\n",
            "  tiempo[:2]\n"
          ]
        },
        {
          "data": {
            "text/plain": [
              "1   2022-06-10 18:49:07\n",
              "2   2022-06-10 18:49:16\n",
              "Name: 0, dtype: datetime64[ns]"
            ]
          },
          "execution_count": 14,
          "metadata": {},
          "output_type": "execute_result"
        }
      ],
      "source": [
        "tiempo = pd.to_datetime(df_coments[0])\n",
        "tiempo[:2]"
      ]
    },
    {
      "cell_type": "code",
      "execution_count": null,
      "metadata": {
        "id": "CgoTgbeVX4Yv"
      },
      "outputs": [],
      "source": [
        "# tiempo.dt.second"
      ]
    },
    {
      "cell_type": "code",
      "execution_count": 15,
      "metadata": {
        "id": "h5ySY2pGke27"
      },
      "outputs": [],
      "source": [
        "df_coments['hora'] = tiempo.dt.hour+tiempo.dt.minute/60"
      ]
    },
    {
      "cell_type": "code",
      "execution_count": null,
      "metadata": {
        "id": "X_o0wr7fYF9l"
      },
      "outputs": [],
      "source": [
        "# df_coments.head()"
      ]
    },
    {
      "cell_type": "code",
      "execution_count": 16,
      "metadata": {
        "colab": {
          "base_uri": "https://localhost:8080/"
        },
        "id": "Kr-g82X8k-p_",
        "outputId": "f8977444-1533-4dab-a859-bcc09c81117d"
      },
      "outputs": [
        {
          "name": "stderr",
          "output_type": "stream",
          "text": [
            "C:\\Users\\lajs5\\AppData\\Local\\Temp\\ipykernel_27272\\3856506664.py:3: FutureWarning: The behavior of `series[i:j]` with an integer-dtype index is deprecated. In a future version, this will be treated as *label-based* indexing, consistent with e.g. `series[i]` lookups. To retain the old behavior, use `series.iloc[i:j]`. To get the future behavior, use `series.loc[i:j]`.\n",
            "  df_coments[1][:2].tolist(),df_coments['correo'][:2].tolist()\n"
          ]
        },
        {
          "data": {
            "text/plain": [
              "(['sebastianzarraga43@aragon.unam.mx', 'mariogaiden2@ciencias.unam.mx'],\n",
              " [0, 0])"
            ]
          },
          "execution_count": 16,
          "metadata": {},
          "output_type": "execute_result"
        }
      ],
      "source": [
        "correos = df_coments[1].apply(lambda x: x.split('@')[1])\n",
        "df_coments['correo'] = correos.apply(lambda x: 1 if x=='gmail.com' else 0)\n",
        "df_coments[1][:2].tolist(),df_coments['correo'][:2].tolist()"
      ]
    },
    {
      "cell_type": "code",
      "execution_count": null,
      "metadata": {
        "id": "SVi8BZ3LYZP-"
      },
      "outputs": [],
      "source": [
        "# df_coments"
      ]
    },
    {
      "cell_type": "code",
      "execution_count": 17,
      "metadata": {
        "colab": {
          "base_uri": "https://localhost:8080/"
        },
        "id": "0fYu3B2RkOX2",
        "outputId": "20f0f3de-a17e-4f45-fac7-d3440fc90913"
      },
      "outputs": [
        {
          "name": "stderr",
          "output_type": "stream",
          "text": [
            "C:\\Users\\lajs5\\AppData\\Local\\Temp\\ipykernel_27272\\2169017196.py:2: FutureWarning: The behavior of `series[i:j]` with an integer-dtype index is deprecated. In a future version, this will be treated as *label-based* indexing, consistent with e.g. `series[i]` lookups. To retain the old behavior, use `series.iloc[i:j]`. To get the future behavior, use `series.loc[i:j]`.\n",
            "  df_coments['numero'][:2]\n"
          ]
        },
        {
          "data": {
            "text/plain": [
              "1    10.0\n",
              "2    10.0\n",
              "Name: numero, dtype: float64"
            ]
          },
          "execution_count": 17,
          "metadata": {},
          "output_type": "execute_result"
        }
      ],
      "source": [
        "df_coments['numero'] = df_coments[3].replace(np.nan,'').apply(lambda x: x if ' ' not in x else 3).replace('',0).replace('Ocho',8).astype(float)\n",
        "df_coments['numero'][:2]"
      ]
    },
    {
      "cell_type": "code",
      "execution_count": 18,
      "metadata": {
        "colab": {
          "base_uri": "https://localhost:8080/",
          "height": 203
        },
        "id": "20sGPH_4lsiW",
        "outputId": "98a6c5d9-151b-4364-8f6b-05cb283da992"
      },
      "outputs": [
        {
          "data": {
            "text/html": [
              "<div>\n",
              "<style scoped>\n",
              "    .dataframe tbody tr th:only-of-type {\n",
              "        vertical-align: middle;\n",
              "    }\n",
              "\n",
              "    .dataframe tbody tr th {\n",
              "        vertical-align: top;\n",
              "    }\n",
              "\n",
              "    .dataframe thead th {\n",
              "        text-align: right;\n",
              "    }\n",
              "</style>\n",
              "<table border=\"1\" class=\"dataframe\">\n",
              "  <thead>\n",
              "    <tr style=\"text-align: right;\">\n",
              "      <th></th>\n",
              "      <th>BCS</th>\n",
              "      <th>CDMX</th>\n",
              "      <th>Chiapas</th>\n",
              "      <th>Ciudad de México</th>\n",
              "      <th>Durango</th>\n",
              "      <th>Edo Mex</th>\n",
              "      <th>Estado de Mexico</th>\n",
              "      <th>Guadalajara</th>\n",
              "      <th>Guanajuato</th>\n",
              "      <th>Guerrero</th>\n",
              "      <th>...</th>\n",
              "      <th>Mexico</th>\n",
              "      <th>Morelos</th>\n",
              "      <th>Nuevo León</th>\n",
              "      <th>Puebla</th>\n",
              "      <th>Querétaro</th>\n",
              "      <th>Sinaloa</th>\n",
              "      <th>Tabasco</th>\n",
              "      <th>cdmx</th>\n",
              "      <th>departamento</th>\n",
              "      <th>edo mex</th>\n",
              "    </tr>\n",
              "  </thead>\n",
              "  <tbody>\n",
              "    <tr>\n",
              "      <th>1</th>\n",
              "      <td>0</td>\n",
              "      <td>0</td>\n",
              "      <td>0</td>\n",
              "      <td>0</td>\n",
              "      <td>0</td>\n",
              "      <td>0</td>\n",
              "      <td>0</td>\n",
              "      <td>0</td>\n",
              "      <td>0</td>\n",
              "      <td>0</td>\n",
              "      <td>...</td>\n",
              "      <td>1</td>\n",
              "      <td>0</td>\n",
              "      <td>0</td>\n",
              "      <td>0</td>\n",
              "      <td>0</td>\n",
              "      <td>0</td>\n",
              "      <td>0</td>\n",
              "      <td>0</td>\n",
              "      <td>0</td>\n",
              "      <td>0</td>\n",
              "    </tr>\n",
              "    <tr>\n",
              "      <th>2</th>\n",
              "      <td>0</td>\n",
              "      <td>0</td>\n",
              "      <td>0</td>\n",
              "      <td>0</td>\n",
              "      <td>0</td>\n",
              "      <td>0</td>\n",
              "      <td>0</td>\n",
              "      <td>0</td>\n",
              "      <td>1</td>\n",
              "      <td>0</td>\n",
              "      <td>...</td>\n",
              "      <td>0</td>\n",
              "      <td>0</td>\n",
              "      <td>0</td>\n",
              "      <td>0</td>\n",
              "      <td>0</td>\n",
              "      <td>0</td>\n",
              "      <td>0</td>\n",
              "      <td>0</td>\n",
              "      <td>0</td>\n",
              "      <td>0</td>\n",
              "    </tr>\n",
              "  </tbody>\n",
              "</table>\n",
              "<p>2 rows × 21 columns</p>\n",
              "</div>"
            ],
            "text/plain": [
              "   BCS  CDMX  Chiapas  Ciudad de México  Durango  Edo Mex  Estado de Mexico  \\\n",
              "1    0     0        0                 0        0        0                 0   \n",
              "2    0     0        0                 0        0        0                 0   \n",
              "\n",
              "   Guadalajara  Guanajuato  Guerrero  ...  Mexico  Morelos  Nuevo León  \\\n",
              "1            0           0         0  ...       1        0           0   \n",
              "2            0           1         0  ...       0        0           0   \n",
              "\n",
              "   Puebla  Querétaro   Sinaloa  Tabasco  cdmx  departamento  edo mex  \n",
              "1       0           0        0        0     0             0        0  \n",
              "2       0           0        0        0     0             0        0  \n",
              "\n",
              "[2 rows x 21 columns]"
            ]
          },
          "execution_count": 18,
          "metadata": {},
          "output_type": "execute_result"
        }
      ],
      "source": [
        "df_lugares = pd.get_dummies(df_coments[4].replace('Estado de México','Edo Mex').replace('Ciudad de México ','CDMX'))\n",
        "df_lugares.head(2)"
      ]
    },
    {
      "cell_type": "code",
      "execution_count": null,
      "metadata": {
        "id": "FOf9wEXmY9Kx"
      },
      "outputs": [],
      "source": [
        "# df_coments[5]"
      ]
    },
    {
      "cell_type": "code",
      "execution_count": 19,
      "metadata": {
        "colab": {
          "base_uri": "https://localhost:8080/"
        },
        "id": "nx1J8_MymzsT",
        "outputId": "a73c9e83-5ef7-4d9a-f21c-5885058d6a90"
      },
      "outputs": [
        {
          "data": {
            "text/plain": [
              "26.264705882352942"
            ]
          },
          "execution_count": 19,
          "metadata": {},
          "output_type": "execute_result"
        }
      ],
      "source": [
        "df_coments[5][df_coments[5]!='?'].astype(int).mean()"
      ]
    },
    {
      "cell_type": "code",
      "execution_count": 20,
      "metadata": {
        "id": "bosGQw8DlpoQ"
      },
      "outputs": [],
      "source": [
        "#Imputamos la media\n",
        "df_coments['edad'] = df_coments[5].replace('?',26).astype(int)"
      ]
    },
    {
      "cell_type": "code",
      "execution_count": 21,
      "metadata": {
        "id": "8Q40GXdQnF51"
      },
      "outputs": [],
      "source": [
        "df_coments['genero'] = df_coments[6].apply(lambda x: 1 if x=='Hombre' else 0)"
      ]
    },
    {
      "cell_type": "code",
      "execution_count": 22,
      "metadata": {
        "colab": {
          "base_uri": "https://localhost:8080/"
        },
        "id": "nNg9KHEv3Eqh",
        "outputId": "5fb429fd-45ed-4d8d-d4d1-f2d3446aa92a"
      },
      "outputs": [
        {
          "name": "stderr",
          "output_type": "stream",
          "text": [
            "C:\\Users\\lajs5\\AppData\\Local\\Temp\\ipykernel_27272\\752892274.py:1: FutureWarning: The behavior of `series[i:j]` with an integer-dtype index is deprecated. In a future version, this will be treated as *label-based* indexing, consistent with e.g. `series[i]` lookups. To retain the old behavior, use `series.iloc[i:j]`. To get the future behavior, use `series.loc[i:j]`.\n",
            "  df_coments[7][:2]\n"
          ]
        },
        {
          "data": {
            "text/plain": [
              "1    Reggaeton, Hip Hop\n",
              "2               Hip Hop\n",
              "Name: 7, dtype: object"
            ]
          },
          "execution_count": 22,
          "metadata": {},
          "output_type": "execute_result"
        }
      ],
      "source": [
        "df_coments[7][:2]"
      ]
    },
    {
      "cell_type": "code",
      "execution_count": 23,
      "metadata": {
        "colab": {
          "base_uri": "https://localhost:8080/"
        },
        "id": "DLU-O4z_nPhJ",
        "outputId": "d671c176-7f4d-4378-b78e-de9ef70dd52b"
      },
      "outputs": [
        {
          "data": {
            "text/plain": [
              "{'clásica', 'hip hop', 'jazz', 'metal', 'pop', 'reggaeton', 'rock'}"
            ]
          },
          "execution_count": 23,
          "metadata": {},
          "output_type": "execute_result"
        }
      ],
      "source": [
        "listas = df_coments[7].apply(lambda x: x.split(','))\n",
        "# Aplanar una lista de listas\n",
        "unicos = set([item.strip().lower() for sublist in listas.tolist() for item in sublist])\n",
        "unicos"
      ]
    },
    {
      "cell_type": "code",
      "execution_count": null,
      "metadata": {
        "id": "iJz1gW1fodcT"
      },
      "outputs": [],
      "source": [
        "# listas.apply(lambda x: 1 if 'Pop' in x else 0)"
      ]
    },
    {
      "cell_type": "code",
      "execution_count": null,
      "metadata": {
        "id": "Ty7Py_6VZXeq"
      },
      "outputs": [],
      "source": [
        "# listas"
      ]
    },
    {
      "cell_type": "code",
      "execution_count": 24,
      "metadata": {
        "colab": {
          "base_uri": "https://localhost:8080/"
        },
        "id": "kESxNUva3SC7",
        "outputId": "db71abae-e146-44ac-ad5c-6b51878cdb23"
      },
      "outputs": [
        {
          "name": "stderr",
          "output_type": "stream",
          "text": [
            "C:\\Users\\lajs5\\AppData\\Local\\Temp\\ipykernel_27272\\406050720.py:4: FutureWarning: The behavior of `series[i:j]` with an integer-dtype index is deprecated. In a future version, this will be treated as *label-based* indexing, consistent with e.g. `series[i]` lookups. To retain the old behavior, use `series.iloc[i:j]`. To get the future behavior, use `series.loc[i:j]`.\n",
            "  listas.apply(lambda x: 1 if gen in [ele.strip().lower() for ele in x] else 0)[:2]\n"
          ]
        },
        {
          "data": {
            "text/plain": [
              "1    0\n",
              "2    0\n",
              "Name: 7, dtype: int64"
            ]
          },
          "execution_count": 24,
          "metadata": {},
          "output_type": "execute_result"
        }
      ],
      "source": [
        "gen = 'clásica'\n",
        "# [ele.strip().lower() for ele in x] es una lista que limpia el texto ej. \" Clásica\" -> \"clásica\"\n",
        "# 1 si clásica está en la lista, 0 en otro caso\n",
        "listas.apply(lambda x: 1 if gen in [ele.strip().lower() for ele in x] else 0)[:2]"
      ]
    },
    {
      "cell_type": "code",
      "execution_count": 25,
      "metadata": {
        "colab": {
          "base_uri": "https://localhost:8080/",
          "height": 206
        },
        "id": "b1KUgqaQoDvl",
        "outputId": "a9d73c21-8e61-4656-e43e-97975bd90d03"
      },
      "outputs": [
        {
          "data": {
            "text/html": [
              "<div>\n",
              "<style scoped>\n",
              "    .dataframe tbody tr th:only-of-type {\n",
              "        vertical-align: middle;\n",
              "    }\n",
              "\n",
              "    .dataframe tbody tr th {\n",
              "        vertical-align: top;\n",
              "    }\n",
              "\n",
              "    .dataframe thead th {\n",
              "        text-align: right;\n",
              "    }\n",
              "</style>\n",
              "<table border=\"1\" class=\"dataframe\">\n",
              "  <thead>\n",
              "    <tr style=\"text-align: right;\">\n",
              "      <th></th>\n",
              "      <th>pop</th>\n",
              "      <th>jazz</th>\n",
              "      <th>reggaeton</th>\n",
              "      <th>clásica</th>\n",
              "      <th>metal</th>\n",
              "      <th>rock</th>\n",
              "      <th>hip hop</th>\n",
              "    </tr>\n",
              "  </thead>\n",
              "  <tbody>\n",
              "    <tr>\n",
              "      <th>1</th>\n",
              "      <td>0</td>\n",
              "      <td>0</td>\n",
              "      <td>1</td>\n",
              "      <td>0</td>\n",
              "      <td>0</td>\n",
              "      <td>0</td>\n",
              "      <td>1</td>\n",
              "    </tr>\n",
              "    <tr>\n",
              "      <th>2</th>\n",
              "      <td>0</td>\n",
              "      <td>0</td>\n",
              "      <td>0</td>\n",
              "      <td>0</td>\n",
              "      <td>0</td>\n",
              "      <td>0</td>\n",
              "      <td>1</td>\n",
              "    </tr>\n",
              "    <tr>\n",
              "      <th>3</th>\n",
              "      <td>1</td>\n",
              "      <td>0</td>\n",
              "      <td>0</td>\n",
              "      <td>0</td>\n",
              "      <td>0</td>\n",
              "      <td>0</td>\n",
              "      <td>0</td>\n",
              "    </tr>\n",
              "    <tr>\n",
              "      <th>4</th>\n",
              "      <td>0</td>\n",
              "      <td>1</td>\n",
              "      <td>1</td>\n",
              "      <td>1</td>\n",
              "      <td>1</td>\n",
              "      <td>1</td>\n",
              "      <td>0</td>\n",
              "    </tr>\n",
              "    <tr>\n",
              "      <th>5</th>\n",
              "      <td>1</td>\n",
              "      <td>0</td>\n",
              "      <td>1</td>\n",
              "      <td>0</td>\n",
              "      <td>0</td>\n",
              "      <td>1</td>\n",
              "      <td>1</td>\n",
              "    </tr>\n",
              "  </tbody>\n",
              "</table>\n",
              "</div>"
            ],
            "text/plain": [
              "   pop  jazz  reggaeton  clásica  metal  rock  hip hop\n",
              "1    0     0          1        0      0     0        1\n",
              "2    0     0          0        0      0     0        1\n",
              "3    1     0          0        0      0     0        0\n",
              "4    0     1          1        1      1     1        0\n",
              "5    1     0          1        0      0     1        1"
            ]
          },
          "execution_count": 25,
          "metadata": {},
          "output_type": "execute_result"
        }
      ],
      "source": [
        "# Lo guardo como diccionario para que se pueda leer directamente como Data Frame\n",
        "generos = {}\n",
        "for gen in unicos:\n",
        "  generos[gen] = listas.apply(lambda x: 1 if gen in [ele.strip().lower() for ele in x] else 0)\n",
        "\n",
        "musica = pd.DataFrame(generos)\n",
        "musica.head()"
      ]
    },
    {
      "cell_type": "code",
      "execution_count": 26,
      "metadata": {
        "id": "zAh46LdI32CL"
      },
      "outputs": [],
      "source": [
        "# Pongo el prefijo mus para saber que hablo de variables de tipo musical\n",
        "musica.columns = ['mus_' + x for x in musica.columns]\n",
        "df_coments = pd.concat([df_coments,musica],axis=1)"
      ]
    },
    {
      "cell_type": "code",
      "execution_count": 28,
      "metadata": {
        "id": "WVCi5STsqGos"
      },
      "outputs": [],
      "source": [
        "# Lo mismo para mascotas\n",
        "listas = df_coments[8].replace(np.nan,'').apply(lambda x: x.split(','))\n",
        "unicos = set([item.strip().lower() for sublist in listas.tolist() for item in sublist])"
      ]
    },
    {
      "cell_type": "code",
      "execution_count": 29,
      "metadata": {
        "id": "XUe7bx9fpxCY"
      },
      "outputs": [],
      "source": [
        "generos = {}\n",
        "for gen in unicos:\n",
        "  generos[gen] = listas.apply(lambda x: 1 if gen in [ele.strip().lower() for ele in x] else 0)\n",
        "\n",
        "musica = pd.DataFrame(generos)\n",
        "musica.columns = ['masc_' + x for x in musica.columns]\n",
        "df_coments = pd.concat([df_coments,musica],axis=1)"
      ]
    },
    {
      "cell_type": "code",
      "execution_count": 30,
      "metadata": {
        "colab": {
          "base_uri": "https://localhost:8080/",
          "height": 362
        },
        "id": "BtSupEvd4QXS",
        "outputId": "79062d5f-8398-4dd8-ab88-5f8e760d88bd"
      },
      "outputs": [
        {
          "data": {
            "text/html": [
              "<div>\n",
              "<style scoped>\n",
              "    .dataframe tbody tr th:only-of-type {\n",
              "        vertical-align: middle;\n",
              "    }\n",
              "\n",
              "    .dataframe tbody tr th {\n",
              "        vertical-align: top;\n",
              "    }\n",
              "\n",
              "    .dataframe thead th {\n",
              "        text-align: right;\n",
              "    }\n",
              "</style>\n",
              "<table border=\"1\" class=\"dataframe\">\n",
              "  <thead>\n",
              "    <tr style=\"text-align: right;\">\n",
              "      <th></th>\n",
              "      <th>0</th>\n",
              "      <th>1</th>\n",
              "      <th>2</th>\n",
              "      <th>3</th>\n",
              "      <th>4</th>\n",
              "      <th>5</th>\n",
              "      <th>6</th>\n",
              "      <th>7</th>\n",
              "      <th>8</th>\n",
              "      <th>9</th>\n",
              "      <th>...</th>\n",
              "      <th>mus_reggaeton</th>\n",
              "      <th>mus_clásica</th>\n",
              "      <th>mus_metal</th>\n",
              "      <th>mus_rock</th>\n",
              "      <th>mus_hip hop</th>\n",
              "      <th>masc_</th>\n",
              "      <th>masc_otros</th>\n",
              "      <th>masc_perros</th>\n",
              "      <th>masc_gatos</th>\n",
              "      <th>masc_peces</th>\n",
              "    </tr>\n",
              "  </thead>\n",
              "  <tbody>\n",
              "    <tr>\n",
              "      <th>1</th>\n",
              "      <td>6/10/2022 18:49:07</td>\n",
              "      <td>sebastianzarraga43@aragon.unam.mx</td>\n",
              "      <td>Sebastian Zaaraga</td>\n",
              "      <td>10</td>\n",
              "      <td>Mexico</td>\n",
              "      <td>22</td>\n",
              "      <td>Hombre</td>\n",
              "      <td>Reggaeton, Hip Hop</td>\n",
              "      <td>Perros, Peces</td>\n",
              "      <td>Game of Thrones , Naruto , Sons of Anarchy</td>\n",
              "      <td>...</td>\n",
              "      <td>1</td>\n",
              "      <td>0</td>\n",
              "      <td>0</td>\n",
              "      <td>0</td>\n",
              "      <td>1</td>\n",
              "      <td>0</td>\n",
              "      <td>0</td>\n",
              "      <td>1</td>\n",
              "      <td>0</td>\n",
              "      <td>1</td>\n",
              "    </tr>\n",
              "    <tr>\n",
              "      <th>2</th>\n",
              "      <td>6/10/2022 18:49:16</td>\n",
              "      <td>mariogaiden2@ciencias.unam.mx</td>\n",
              "      <td>Mario Guadiana Martinez</td>\n",
              "      <td>10</td>\n",
              "      <td>Guanajuato</td>\n",
              "      <td>27</td>\n",
              "      <td>Hombre</td>\n",
              "      <td>Hip Hop</td>\n",
              "      <td>Gatos</td>\n",
              "      <td>Alf, príncipe de beler, prision break</td>\n",
              "      <td>...</td>\n",
              "      <td>0</td>\n",
              "      <td>0</td>\n",
              "      <td>0</td>\n",
              "      <td>0</td>\n",
              "      <td>1</td>\n",
              "      <td>0</td>\n",
              "      <td>0</td>\n",
              "      <td>0</td>\n",
              "      <td>1</td>\n",
              "      <td>0</td>\n",
              "    </tr>\n",
              "  </tbody>\n",
              "</table>\n",
              "<p>2 rows × 30 columns</p>\n",
              "</div>"
            ],
            "text/plain": [
              "                    0                                  1  \\\n",
              "1  6/10/2022 18:49:07  sebastianzarraga43@aragon.unam.mx   \n",
              "2  6/10/2022 18:49:16      mariogaiden2@ciencias.unam.mx   \n",
              "\n",
              "                         2   3           4   5       6                   7  \\\n",
              "1        Sebastian Zaaraga  10      Mexico  22  Hombre  Reggaeton, Hip Hop   \n",
              "2  Mario Guadiana Martinez  10  Guanajuato  27  Hombre             Hip Hop   \n",
              "\n",
              "               8                                           9  ...  \\\n",
              "1  Perros, Peces  Game of Thrones , Naruto , Sons of Anarchy  ...   \n",
              "2          Gatos       Alf, príncipe de beler, prision break  ...   \n",
              "\n",
              "   mus_reggaeton mus_clásica mus_metal  mus_rock  mus_hip hop  masc_  \\\n",
              "1              1           0         0         0            1      0   \n",
              "2              0           0         0         0            1      0   \n",
              "\n",
              "   masc_otros  masc_perros  masc_gatos  masc_peces  \n",
              "1           0            1           0           1  \n",
              "2           0            0           1           0  \n",
              "\n",
              "[2 rows x 30 columns]"
            ]
          },
          "execution_count": 30,
          "metadata": {},
          "output_type": "execute_result"
        }
      ],
      "source": [
        "df_coments.head(2)"
      ]
    },
    {
      "cell_type": "code",
      "execution_count": 31,
      "metadata": {
        "colab": {
          "base_uri": "https://localhost:8080/"
        },
        "id": "V2CAv1_WaJ_v",
        "outputId": "a05ec0c2-39a8-4179-d238-f85b95c9d6bd"
      },
      "outputs": [
        {
          "data": {
            "text/plain": [
              "1            Game of Thrones , Naruto , Sons of Anarchy\n",
              "2                 Alf, príncipe de beler, prision break\n",
              "3                   one piece, siete pecados capitales.\n",
              "4     Mindhunter, How I Met Your Mother, Attack On T...\n",
              "5                The 100, the rings of power, one piece\n",
              "6         Game of Thrones, The Serpent Queen, Mr. Robot\n",
              "7                 Dark, Mindhunter, The Midnight Gospel\n",
              "8                       rick & morty, the 100, hannibal\n",
              "9                                Reign, Suits, Millions\n",
              "10              Malcolm el de enmedio, Hannibal, Dexter\n",
              "11    Los chicos son mejores que las flores, La teor...\n",
              "12                   Vikingos, Good Girls, Rick y Morty\n",
              "13                          Dragon ball z,jojos, bleach\n",
              "14               Game of Thrones, Friends, Heartstopper\n",
              "15                               BCS, One Piece, Malcom\n",
              "16                        D gray man, roleplay, Ladybug\n",
              "17                       Gossip girl, Big Mouth, Avatar\n",
              "18               Breaking Bad, Vikings, Game of Thrones\n",
              "19                  Stranger things, Dark, White collar\n",
              "20    One piece, sandman, el gabinete de las curiosi...\n",
              "21                  The Boys, Rick & Morty, The Office \n",
              "22             attack on titan, Breaking Bad, Star Wars\n",
              "23                The Office, House of Dragons, Friends\n",
              "24      Los Simpson, Anillos del poder, Game of Thrones\n",
              "25               Naruto, One piece, the big bang theory\n",
              "26    Breaking Bad, Spartacus, Avatar: The Legend of...\n",
              "27                   Game of thrones, Los 100, The Boys\n",
              "28              Game of Thrones,  Mandalorian, The Boys\n",
              "29         Malcolm in the Middle, Dexter, The Mentalist\n",
              "30       breaking bad, better call Saùl, Silicon valley\n",
              "31    En pocas palabras, sombra y hueso, un dia a la...\n",
              "32          betty la fea, los 100, vida en otro planeta\n",
              "33                       malcolm, top boy, breaking bad\n",
              "34      The Office, How I Met Your Mother, Breaking Bad\n",
              "35               House of Cards, Billions, Black Mirror\n",
              "Name: 9, dtype: object"
            ]
          },
          "execution_count": 31,
          "metadata": {},
          "output_type": "execute_result"
        }
      ],
      "source": [
        "df_coments[9]"
      ]
    },
    {
      "cell_type": "code",
      "execution_count": 32,
      "metadata": {
        "colab": {
          "base_uri": "https://localhost:8080/"
        },
        "id": "Y6OxRwEUp8jP",
        "outputId": "3f27398b-32c2-4bf5-dd26-52de9a52c693"
      },
      "outputs": [
        {
          "data": {
            "text/plain": [
              "['game of thrones',\n",
              " 'breaking bad',\n",
              " 'one piece',\n",
              " 'the boys',\n",
              " 'the office',\n",
              " 'naruto',\n",
              " 'the 100',\n",
              " 'dexter',\n",
              " 'hannibal',\n",
              " 'rick & morty']"
            ]
          },
          "execution_count": 32,
          "metadata": {},
          "output_type": "execute_result"
        }
      ],
      "source": [
        "listas = df_coments[9].apply(lambda x: x.split(','))\n",
        "\n",
        "unicos = [item.strip().lower() for sublist in listas.tolist() for item in sublist]\n",
        "populares = pd.Series(unicos).value_counts().head(10).index.tolist()\n",
        "populares"
      ]
    },
    {
      "cell_type": "code",
      "execution_count": 33,
      "metadata": {
        "id": "aNqbf6OOq7L-"
      },
      "outputs": [],
      "source": [
        "for i in range(len(populares)):\n",
        "  if i==0:\n",
        "    pops = listas.apply(lambda x: 1 if populares[i] in [ele.strip().lower() for ele in x] else 0)\n",
        "  else:\n",
        "    pops_ = listas.apply(lambda x: 1 if populares[i] in [ele.strip().lower() for ele in x] else 0)\n",
        "\n",
        "    pops += pops_\n",
        "\n",
        "df_coments['populares'] = pops"
      ]
    },
    {
      "cell_type": "code",
      "execution_count": null,
      "metadata": {
        "id": "Y77xYpOibKZU"
      },
      "outputs": [],
      "source": [
        "# df_coments['populares']"
      ]
    },
    {
      "cell_type": "code",
      "execution_count": 34,
      "metadata": {
        "id": "PZmWZUgdq1Zs"
      },
      "outputs": [],
      "source": [
        "df_coments['extro_scale'] = df_coments[10].astype(int)"
      ]
    },
    {
      "cell_type": "code",
      "execution_count": null,
      "metadata": {
        "id": "3Bx64hZIbcRa"
      },
      "outputs": [],
      "source": [
        "# [c for c in df_coments.columns if c not in range(13)]"
      ]
    },
    {
      "cell_type": "code",
      "execution_count": 35,
      "metadata": {
        "colab": {
          "base_uri": "https://localhost:8080/",
          "height": 250
        },
        "id": "R2cOPuDZ4yWS",
        "outputId": "55e810e5-f19f-4831-fb56-04f478163e64"
      },
      "outputs": [
        {
          "data": {
            "text/html": [
              "<div>\n",
              "<style scoped>\n",
              "    .dataframe tbody tr th:only-of-type {\n",
              "        vertical-align: middle;\n",
              "    }\n",
              "\n",
              "    .dataframe tbody tr th {\n",
              "        vertical-align: top;\n",
              "    }\n",
              "\n",
              "    .dataframe thead th {\n",
              "        text-align: right;\n",
              "    }\n",
              "</style>\n",
              "<table border=\"1\" class=\"dataframe\">\n",
              "  <thead>\n",
              "    <tr style=\"text-align: right;\">\n",
              "      <th></th>\n",
              "      <th>hora</th>\n",
              "      <th>correo</th>\n",
              "      <th>numero</th>\n",
              "      <th>edad</th>\n",
              "      <th>genero</th>\n",
              "      <th>mus_pop</th>\n",
              "      <th>mus_jazz</th>\n",
              "      <th>mus_reggaeton</th>\n",
              "      <th>mus_clásica</th>\n",
              "      <th>mus_metal</th>\n",
              "      <th>mus_rock</th>\n",
              "      <th>mus_hip hop</th>\n",
              "      <th>masc_</th>\n",
              "      <th>masc_otros</th>\n",
              "      <th>masc_perros</th>\n",
              "      <th>masc_gatos</th>\n",
              "      <th>masc_peces</th>\n",
              "      <th>populares</th>\n",
              "      <th>extro_scale</th>\n",
              "    </tr>\n",
              "  </thead>\n",
              "  <tbody>\n",
              "    <tr>\n",
              "      <th>1</th>\n",
              "      <td>18.816667</td>\n",
              "      <td>0</td>\n",
              "      <td>10.0000</td>\n",
              "      <td>22</td>\n",
              "      <td>1</td>\n",
              "      <td>0</td>\n",
              "      <td>0</td>\n",
              "      <td>1</td>\n",
              "      <td>0</td>\n",
              "      <td>0</td>\n",
              "      <td>0</td>\n",
              "      <td>1</td>\n",
              "      <td>0</td>\n",
              "      <td>0</td>\n",
              "      <td>1</td>\n",
              "      <td>0</td>\n",
              "      <td>1</td>\n",
              "      <td>2</td>\n",
              "      <td>1</td>\n",
              "    </tr>\n",
              "    <tr>\n",
              "      <th>2</th>\n",
              "      <td>18.816667</td>\n",
              "      <td>0</td>\n",
              "      <td>10.0000</td>\n",
              "      <td>27</td>\n",
              "      <td>1</td>\n",
              "      <td>0</td>\n",
              "      <td>0</td>\n",
              "      <td>0</td>\n",
              "      <td>0</td>\n",
              "      <td>0</td>\n",
              "      <td>0</td>\n",
              "      <td>1</td>\n",
              "      <td>0</td>\n",
              "      <td>0</td>\n",
              "      <td>0</td>\n",
              "      <td>1</td>\n",
              "      <td>0</td>\n",
              "      <td>0</td>\n",
              "      <td>2</td>\n",
              "    </tr>\n",
              "    <tr>\n",
              "      <th>3</th>\n",
              "      <td>18.816667</td>\n",
              "      <td>1</td>\n",
              "      <td>14.0000</td>\n",
              "      <td>26</td>\n",
              "      <td>0</td>\n",
              "      <td>1</td>\n",
              "      <td>0</td>\n",
              "      <td>0</td>\n",
              "      <td>0</td>\n",
              "      <td>0</td>\n",
              "      <td>0</td>\n",
              "      <td>0</td>\n",
              "      <td>1</td>\n",
              "      <td>0</td>\n",
              "      <td>0</td>\n",
              "      <td>0</td>\n",
              "      <td>0</td>\n",
              "      <td>1</td>\n",
              "      <td>3</td>\n",
              "    </tr>\n",
              "    <tr>\n",
              "      <th>4</th>\n",
              "      <td>18.816667</td>\n",
              "      <td>1</td>\n",
              "      <td>13.0000</td>\n",
              "      <td>21</td>\n",
              "      <td>1</td>\n",
              "      <td>0</td>\n",
              "      <td>1</td>\n",
              "      <td>1</td>\n",
              "      <td>1</td>\n",
              "      <td>1</td>\n",
              "      <td>1</td>\n",
              "      <td>0</td>\n",
              "      <td>0</td>\n",
              "      <td>0</td>\n",
              "      <td>1</td>\n",
              "      <td>0</td>\n",
              "      <td>0</td>\n",
              "      <td>0</td>\n",
              "      <td>2</td>\n",
              "    </tr>\n",
              "    <tr>\n",
              "      <th>5</th>\n",
              "      <td>18.816667</td>\n",
              "      <td>1</td>\n",
              "      <td>1.6811</td>\n",
              "      <td>24</td>\n",
              "      <td>1</td>\n",
              "      <td>1</td>\n",
              "      <td>0</td>\n",
              "      <td>1</td>\n",
              "      <td>0</td>\n",
              "      <td>0</td>\n",
              "      <td>1</td>\n",
              "      <td>1</td>\n",
              "      <td>0</td>\n",
              "      <td>0</td>\n",
              "      <td>1</td>\n",
              "      <td>0</td>\n",
              "      <td>0</td>\n",
              "      <td>2</td>\n",
              "      <td>3</td>\n",
              "    </tr>\n",
              "  </tbody>\n",
              "</table>\n",
              "</div>"
            ],
            "text/plain": [
              "        hora  correo   numero  edad  genero  mus_pop  mus_jazz  mus_reggaeton  \\\n",
              "1  18.816667       0  10.0000    22       1        0         0              1   \n",
              "2  18.816667       0  10.0000    27       1        0         0              0   \n",
              "3  18.816667       1  14.0000    26       0        1         0              0   \n",
              "4  18.816667       1  13.0000    21       1        0         1              1   \n",
              "5  18.816667       1   1.6811    24       1        1         0              1   \n",
              "\n",
              "   mus_clásica  mus_metal  mus_rock  mus_hip hop  masc_  masc_otros  \\\n",
              "1            0          0         0            1      0           0   \n",
              "2            0          0         0            1      0           0   \n",
              "3            0          0         0            0      1           0   \n",
              "4            1          1         1            0      0           0   \n",
              "5            0          0         1            1      0           0   \n",
              "\n",
              "   masc_perros  masc_gatos  masc_peces  populares  extro_scale  \n",
              "1            1           0           1          2            1  \n",
              "2            0           1           0          0            2  \n",
              "3            0           0           0          1            3  \n",
              "4            1           0           0          0            2  \n",
              "5            1           0           0          2            3  "
            ]
          },
          "execution_count": 35,
          "metadata": {},
          "output_type": "execute_result"
        }
      ],
      "source": [
        "#Quitamos las columnas de texto\n",
        "df_coments[[c for c in df_coments.columns if c not in range(40)]].head()"
      ]
    }
  ],
  "metadata": {
    "colab": {
      "collapsed_sections": [],
      "include_colab_link": true,
      "provenance": []
    },
    "kernelspec": {
      "display_name": "Python 3.10.8 64-bit (microsoft store)",
      "language": "python",
      "name": "python3"
    },
    "language_info": {
      "codemirror_mode": {
        "name": "ipython",
        "version": 3
      },
      "file_extension": ".py",
      "mimetype": "text/x-python",
      "name": "python",
      "nbconvert_exporter": "python",
      "pygments_lexer": "ipython3",
      "version": "3.10.8"
    },
    "vscode": {
      "interpreter": {
        "hash": "2ab61dab0ad8370fc61856a8ba95d56b359e45188f1b1883e5173a8a5e025242"
      }
    }
  },
  "nbformat": 4,
  "nbformat_minor": 0
}
